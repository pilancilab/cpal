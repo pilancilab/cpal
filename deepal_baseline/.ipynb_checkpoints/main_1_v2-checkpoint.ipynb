{
 "cells": [
  {
   "cell_type": "code",
   "execution_count": 1,
   "id": "6d002e08",
   "metadata": {},
   "outputs": [],
   "source": [
    "import numpy as np\n",
    "import numpy.linalg as la\n",
    "import cvxpy as cp\n",
    "import matplotlib.pyplot as plt\n",
    "import math\n",
    "import random\n",
    "import time\n",
    "import mosek\n",
    "\n",
    "import warnings\n",
    "warnings.filterwarnings('ignore')\n",
    "\n",
    "seed=42\n",
    "random.seed(a=seed)\n",
    "np.random.seed(seed=seed)\n",
    "\n",
    "def relu(x):\n",
    "    return np.maximum(0,x)\n",
    "def drelu(x):\n",
    "    return x>=0"
   ]
  },
  {
   "cell_type": "code",
   "execution_count": 2,
   "id": "5175c026",
   "metadata": {},
   "outputs": [],
   "source": [
    "n=50 #choose 160 for a challenging case\n",
    "d=3\n",
    "def spiral_xy(i, spiral_num):\n",
    "    \"\"\"\n",
    "    Create the data for a spiral.\n",
    "\n",
    "    Arguments:\n",
    "        i runs from 0 to 96\n",
    "        spiral_num is 1 or -1\n",
    "    \"\"\"\n",
    "    φ = i/16 * math.pi\n",
    "    r = 6.5 * ((104 - i)/104)\n",
    "    x = (r * math.cos(φ) * spiral_num)/13 + 0.5\n",
    "    y = (r * math.sin(φ) * spiral_num)/13 + 0.5\n",
    "    return (x, y)\n",
    "\n",
    "def spiral(spiral_num):\n",
    "    return [spiral_xy(i, spiral_num) for i in range(n//2)]\n",
    "\n",
    "a = spiral(1)\n",
    "b = spiral(-1)\n",
    "X=2*np.concatenate((a,b),axis=0)-1\n",
    "X=np.append(X,np.ones((n,1)),axis=1)\n",
    "y=np.concatenate((np.ones(n//2),-np.ones(n//2)))\n",
    "\n",
    "\n",
    "beta=1e-5\n",
    "P=200\n",
    "\n",
    "np.random.seed(0)\n",
    "dmat=np.empty((n,0))\n",
    "\n",
    "## Finite approximation of all possible sign patterns\n",
    "for i in range(P):\n",
    "    u=np.random.randn(d,1)\n",
    "    dmat=np.append(dmat,drelu(np.dot(X,u)),axis=1)\n",
    "\n",
    "dmat=(np.unique(dmat,axis=1))"
   ]
  },
  {
   "cell_type": "code",
   "execution_count": 3,
   "id": "ce87eb55",
   "metadata": {},
   "outputs": [
    {
     "data": {
      "text/plain": [
       "(50, 141)"
      ]
     },
     "execution_count": 3,
     "metadata": {},
     "output_type": "execute_result"
    }
   ],
   "source": [
    "dmat.shape"
   ]
  },
  {
   "cell_type": "code",
   "execution_count": 4,
   "id": "81b281d2",
   "metadata": {},
   "outputs": [
    {
     "name": "stdout",
     "output_type": "stream",
     "text": [
      "2-layer convex program objective value:  0.0007843337681135065\n"
     ]
    }
   ],
   "source": [
    "# Optimal CVX\n",
    "m=dmat.shape[1]\n",
    "Uopt1=cp.Variable((d,m)) # c_i in paper\n",
    "Uopt2=cp.Variable((d,m)) # c_i' in paper\n",
    "\n",
    "## Below we use hinge loss as a performance metric for binary classification\n",
    "yopt1=cp.Parameter((n,1))\n",
    "yopt2=cp.Parameter((n,1))\n",
    "yopt1=cp.sum(cp.multiply(dmat,(X*Uopt1)),axis=1)\n",
    "yopt2=cp.sum(cp.multiply(dmat,(X*Uopt2)),axis=1)\n",
    "#cost=cp.sum(cp.pos(1-cp.multiply(y,yopt1-yopt2)))/n+beta*(cp.mixed_norm(Uopt1.T,2,1)+cp.mixed_norm(Uopt2.T,2,1))\n",
    "cost=cp.sum_squares(y-(yopt1-yopt2))/(2*n)+beta*(cp.mixed_norm(Uopt1.T,2,1)+cp.mixed_norm(Uopt2.T,2,1))\n",
    "\n",
    "constraints=[]\n",
    "constraints+=[cp.multiply((2*dmat-np.ones((n,m))),(X*Uopt1))>=0]\n",
    "constraints+=[cp.multiply((2*dmat-np.ones((n,m))),(X*Uopt2))>=0]\n",
    "prob=cp.Problem(cp.Minimize(cost),constraints)\n",
    "prob.solve(solver=cp.CLARABEL,warm_start=True)\n",
    "cvx_opt=prob.value\n",
    "if prob.status != \"optimal\":\n",
    "    print(\"Convex: Status convex: \",prob.status)\n",
    "print(\"2-layer convex program objective value: \",cvx_opt)"
   ]
  },
  {
   "cell_type": "code",
   "execution_count": 5,
   "id": "b33dd9ef-e3cc-4632-be51-aa62e5a616a8",
   "metadata": {},
   "outputs": [
    {
     "data": {
      "text/plain": [
       "(50, 3)"
      ]
     },
     "execution_count": 5,
     "metadata": {},
     "output_type": "execute_result"
    }
   ],
   "source": [
    "X.shape"
   ]
  },
  {
   "cell_type": "code",
   "execution_count": 6,
   "id": "d4bc6873",
   "metadata": {},
   "outputs": [
    {
     "name": "stdout",
     "output_type": "stream",
     "text": [
      "Number of neurons: 141\n"
     ]
    },
    {
     "data": {
      "image/png": "[encoded data removed]",
      "text/plain": [
       "<Figure size 640x480 with 1 Axes>"
      ]
     },
     "metadata": {},
     "output_type": "display_data"
    }
   ],
   "source": [
    "# BP\n",
    "sigma=1e-2\n",
    "mu=0.5\n",
    "print(\"Number of neurons:\",m)\n",
    "mbp=2*m\n",
    "ITERS=15000\n",
    "U=sigma*np.random.randn(d,mbp)\n",
    "w=sigma*np.random.randn(mbp,1)\n",
    "yall=y.reshape(-1,1)\n",
    "obj_bp=np.empty((ITERS,1))\n",
    "batch_size=n\n",
    "nb=batch_size\n",
    "for i in range(ITERS):\n",
    "    if i%8000 == 0 and i>0:\n",
    "        mu=mu/5\n",
    "    samp=np.random.choice(n,batch_size)\n",
    "    Xgd=X[samp,:]\n",
    "    ygd=yall[samp,:]\n",
    "    a1=np.dot(Xgd,U)\n",
    "    yest=np.dot(relu(a1),w)\n",
    "    yest_all=np.dot(relu(np.dot(X,U)),w)\n",
    "    obj_bp[i]=np.linalg.norm(yall-yest_all)**2/(2*n)+(beta/2)*(np.linalg.norm(U,'fro')**2+np.linalg.norm(w,'fro')**2)\n",
    "    gradw= relu(a1).T@(yest-ygd)/nb\n",
    "    gradU=np.zeros((d,mbp))\n",
    "  \n",
    "    gradU=Xgd.T@(drelu(a1)*((yest-ygd)@w.T))/nb\n",
    "\n",
    "    U=(1-mu*beta)*U-mu*gradU\n",
    "    w=(1-mu*beta)*w-mu*gradw\n",
    "    \n",
    "    \n",
    "# Plot\n",
    "plt.figure(0)\n",
    "plt.semilogy(obj_bp,label='GD')\n",
    "plt.axhline(cvx_opt,color='k',label='Optimal')\n",
    "plt.ylabel('Objective value')\n",
    "plt.xlabel('Iteration')\n",
    "plt.legend();"
   ]
  },
  {
   "cell_type": "code",
   "execution_count": 7,
   "id": "eff7c9b6",
   "metadata": {},
   "outputs": [
    {
     "data": {
      "image/png": "[encoded data removed]",
      "text/plain": [
       "<Figure size 700x300 with 2 Axes>"
      ]
     },
     "metadata": {},
     "output_type": "display_data"
    },
    {
     "data": {
      "image/png": "[encoded data removed]",
      "text/plain": [
       "<Figure size 700x300 with 2 Axes>"
      ]
     },
     "metadata": {},
     "output_type": "display_data"
    }
   ],
   "source": [
    "samp=100\n",
    "x1=np.linspace(-1,1,samp).reshape(-1,1)\n",
    "x2=np.linspace(-1,1,samp).reshape(-1,1)\n",
    "\n",
    "Xtest=np.ones((samp**2,d))\n",
    "count=0\n",
    "for i in range(samp):\n",
    "    for j in range(samp):\n",
    "        Xtest[count]=[x1[i, 0],x2[j, 0],1]\n",
    "        count+=1\n",
    "\n",
    "ntest=Xtest.shape[0]\n",
    "\n",
    "Uopt1v=Uopt1.value\n",
    "Uopt2v=Uopt2.value\n",
    "\n",
    "yest_cvx=np.sum(drelu(Xtest@Uopt1v)*(Xtest@Uopt1v)-drelu(Xtest@Uopt2v)*(Xtest@Uopt2v),axis=1)\n",
    "yest_bp=np.dot(relu(np.dot(Xtest,U)),w)\n",
    "\n",
    "\n",
    "pos_cvx=np.where(np.sign(yest_cvx)==1)\n",
    "neg_cvx=np.where(np.sign(yest_cvx)==-1)\n",
    "pos_bp=np.where(np.sign(yest_bp)==1)\n",
    "neg_bp=np.where(np.sign(yest_bp)==-1)\n",
    "pos=np.where(y==1)\n",
    "neg=np.where(y==-1)\n",
    "\n",
    "\n",
    "fig, (ax1, ax2) = plt.subplots(1, 2, figsize=(7, 3))\n",
    "\n",
    "ax1.plot(Xtest[pos_cvx,0],Xtest[pos_cvx,1],'co');\n",
    "ax1.plot(Xtest[neg_cvx,0],Xtest[neg_cvx,1],'mo');\n",
    "ax2.plot(X[pos,0],X[pos,1],'cx');\n",
    "ax2.plot(X[neg,0],X[neg,1],'mx');\n",
    "ax2.set_yticklabels([])\n",
    "#ax1.set_title(\"2-layer Convex\")\n",
    "plt.savefig('convex.pdf', bbox_inches='tight')\n",
    "\n",
    "\n",
    "fig, (ax1, ax2) = plt.subplots(1, 2, figsize=(7, 3))\n",
    "ax1.plot(Xtest[pos_bp,0],Xtest[pos_bp,1],'co');\n",
    "ax1.plot(Xtest[neg_bp,0],Xtest[neg_bp,1],'mo');\n",
    "ax2.plot(X[pos,0],X[pos,1],'cx');\n",
    "ax2.plot(X[neg,0],X[neg,1],'mx');\n",
    "ax2.set_yticklabels([])\n",
    "#ax1.set_title(\"2-layer GD\")\n",
    "plt.savefig('sgd.pdf', bbox_inches='tight')"
   ]
  },
  {
   "cell_type": "code",
   "execution_count": 8,
   "id": "a0827602",
   "metadata": {},
   "outputs": [],
   "source": [
    "### NEW ###\n",
    "\n",
    "N = len(y)"
   ]
  },
  {
   "cell_type": "code",
   "execution_count": 9,
   "id": "4e6b903e",
   "metadata": {},
   "outputs": [
    {
     "data": {
      "text/plain": [
       "(3, 141)"
      ]
     },
     "execution_count": 9,
     "metadata": {},
     "output_type": "execute_result"
    }
   ],
   "source": [
    "Uopt2.shape"
   ]
  },
  {
   "cell_type": "code",
   "execution_count": 10,
   "id": "7fbbcce8",
   "metadata": {},
   "outputs": [
    {
     "data": {
      "text/plain": [
       "0.00047115055326997523"
      ]
     },
     "execution_count": 10,
     "metadata": {},
     "output_type": "execute_result"
    }
   ],
   "source": [
    "beta*(np.sum(np.linalg.norm(Uopt1.value.T,2,axis=0)+np.linalg.norm(Uopt2.value.T,2,axis=0)))"
   ]
  },
  {
   "cell_type": "code",
   "execution_count": 11,
   "id": "e5f4d565",
   "metadata": {},
   "outputs": [],
   "source": [
    "def sign(a):\n",
    "    return 2 * int(a >= 0) - 1"
   ]
  },
  {
   "cell_type": "code",
   "execution_count": 12,
   "id": "fb79a768",
   "metadata": {},
   "outputs": [],
   "source": [
    "# compute analytic center\n",
    "def center(S, R=1, boxinit=False, reg=False, reg_value=2e-4):\n",
    "    \"\"\"S is list of affine inequalities described as tuple of LHS vector/matrix and RHS scalar/vector\"\"\"\n",
    "    s = cp.Variable(2*d*m)\n",
    "    obj = 0 if boxinit else cp.log(R - cp.norm(s))\n",
    "    constraints = []\n",
    "    if reg:\n",
    "        U = cp.reshape(s, (2*d, m), order='F')\n",
    "        #obj += cp.log(reg_value - beta*(cp.mixed_norm(U[:d].T,2,1)+cp.mixed_norm(U[d:].T,2,1)))\n",
    "        constraints = [beta*(cp.mixed_norm(U[:d].T,2,1)+cp.mixed_norm(U[d:].T,2,1)) <= reg_value]\n",
    "    if len(S) > 0:\n",
    "        obj += cp.sum([cp.log(rhs - lhs @ s) for lhs, rhs in S])\n",
    "    prob = cp.Problem(cp.Maximize(obj), constraints)\n",
    "    #prob.solve(solver=cp.ECOS)\n",
    "    prob.solve(solver=cp.MOSEK)\n",
    "    return s.value"
   ]
  },
  {
   "cell_type": "code",
   "execution_count": 13,
   "id": "94add25d",
   "metadata": {},
   "outputs": [],
   "source": [
    "# cut set\n",
    "def cut(S, x, y, dmat_row):\n",
    "    m = len(dmat_row)\n",
    "    # f = cp.sum(cp.multiply(dmat, X*(Uopt1 - Uopt2)), axis=1)\n",
    "    # f_i = dmat[i, 0] * X[i, :] [I - I] var[:, 0] + dmat[i, 1] * X[i, :] [I - I] var[:, 1] + ...  where var = [Uopt1; Uopt2]\n",
    "    # f_i = dmat[i, :] @ [X[i, :] [I - I] var[:, 0]; X[i, :] [I - I] var[:, 1]; ...]\n",
    "    S.append((-y * dmat_row @ np.kron(np.eye(m), np.concatenate((x, -x)).T), 0))\n",
    "    \n",
    "    relu_constraint = -np.kron(np.diag(2*dmat_row-np.ones(m)), np.kron(np.eye(2), x))\n",
    "    for lhs in relu_constraint:\n",
    "        S.append((lhs, 0))\n",
    "    # potentially remove redundant constraints here"
   ]
  },
  {
   "cell_type": "code",
   "execution_count": 14,
   "id": "754b9a43",
   "metadata": {},
   "outputs": [],
   "source": [
    "def pred_point(i, U1v, U2v): # corresponds to <w(theta), x>\n",
    "    y1 = np.sum(np.multiply(dmat[i],(X[i][np.newaxis, :] @ U1v)),axis=1)\n",
    "    y2 = np.sum(np.multiply(dmat[i],(X[i][np.newaxis, :] @ U2v)),axis=1)\n",
    "    return y1 - y2\n",
    "\n",
    "def pred_point_simplified(i, U1v, U2v):\n",
    "    var = np.vstack((U1v, U2v)).flatten(order='F')\n",
    "    return (dmat[i] @ np.kron(np.eye(len(dmat[i])), np.concatenate((X[i], -X[i])).T)) @ var\n",
    "\n",
    "def pred_point_simplified_vec(i, vec):\n",
    "    return (dmat[i] @ np.kron(np.eye(len(dmat[i])), np.concatenate((X[i], -X[i])).T)) @ vec"
   ]
  },
  {
   "cell_type": "code",
   "execution_count": 15,
   "id": "395237cc",
   "metadata": {},
   "outputs": [
    {
     "data": {
      "text/plain": [
       "array([0.99943778])"
      ]
     },
     "execution_count": 15,
     "metadata": {},
     "output_type": "execute_result"
    }
   ],
   "source": [
    "# check that simplification is correct\n",
    "\n",
    "pred_point(3, Uopt1v, Uopt2v)"
   ]
  },
  {
   "cell_type": "code",
   "execution_count": 16,
   "id": "5c23f368",
   "metadata": {},
   "outputs": [
    {
     "data": {
      "text/plain": [
       "0.9994377816571927"
      ]
     },
     "execution_count": 16,
     "metadata": {},
     "output_type": "execute_result"
    }
   ],
   "source": [
    "pred_point_simplified(3, Uopt1v, Uopt2v)"
   ]
  },
  {
   "cell_type": "code",
   "execution_count": 17,
   "id": "24336288",
   "metadata": {},
   "outputs": [
    {
     "data": {
      "text/plain": [
       "0.9994377816571927"
      ]
     },
     "execution_count": 17,
     "metadata": {},
     "output_type": "execute_result"
    }
   ],
   "source": [
    "vec = np.vstack((Uopt1v, Uopt2v)).flatten(order='F')\n",
    "pred_point_simplified_vec(3, vec)"
   ]
  },
  {
   "cell_type": "code",
   "execution_count": 18,
   "id": "8c7cbfab",
   "metadata": {},
   "outputs": [],
   "source": [
    "def constraint(i, U1v, U2v):\n",
    "    return np.vstack((\n",
    "        np.multiply((2*dmat[i]-np.ones((1,m))),(X[i] @ U1v)),\n",
    "        np.multiply((2*dmat[i]-np.ones((1,m))),(X[i] @ U2v))\n",
    "    )).flatten(order='F')\n",
    "\n",
    "def constraint_simplified(i, U1v, U2v):\n",
    "    var = np.vstack((U1v, U2v)).flatten(order='F')\n",
    "    return np.kron(np.diag(2*dmat[i]-np.ones(m)), np.kron(np.eye(2), X[i])) @ var"
   ]
  },
  {
   "cell_type": "code",
   "execution_count": 19,
   "id": "7af6f3a0",
   "metadata": {},
   "outputs": [],
   "source": [
    "def in_Ct(c, Ct, eps=1e-3):\n",
    "    for lhs, rhs in Ct:\n",
    "        if lhs @ c > rhs + eps:\n",
    "            return False\n",
    "    return True"
   ]
  },
  {
   "cell_type": "code",
   "execution_count": 20,
   "id": "6d7f81fe",
   "metadata": {},
   "outputs": [
    {
     "data": {
      "text/plain": [
       "3"
      ]
     },
     "execution_count": 20,
     "metadata": {},
     "output_type": "execute_result"
    }
   ],
   "source": [
    "d"
   ]
  },
  {
   "cell_type": "code",
   "execution_count": 21,
   "id": "a3c685f6",
   "metadata": {},
   "outputs": [],
   "source": [
    "def sample_lattice(S, R=1):\n",
    "    d = 3\n",
    "    l = cp.Variable(2*d*m)\n",
    "    d = np.random.randn(2*d*m)\n",
    "    obj = (d / np.linalg.norm(d)) @ l\n",
    "    prob = cp.Problem(cp.Maximize(obj), [cp.norm(l) <= R] + [lhs @ l <= rhs for lhs, rhs in S])\n",
    "    prob.solve(cp.MOSEK)\n",
    "    return l.value"
   ]
  },
  {
   "cell_type": "code",
   "execution_count": 22,
   "id": "a6bf2cf5",
   "metadata": {},
   "outputs": [],
   "source": [
    "R = 1\n",
    "\n",
    "C0_lower = -R*np.ones(2*d*m)\n",
    "C0_upper = R*np.ones(2*d*m)\n",
    "\n",
    "def sample_classifier(Ct, c, maxiter=10**5):\n",
    "    for _ in range(maxiter):\n",
    "        #candidate = np.random.uniform(C0_lower, C0_upper)\n",
    "        candidate = c + np.random.randn(*c.shape)\n",
    "        if in_Ct(candidate, Ct):\n",
    "            return candidate\n",
    "    print(f'Failed to sample after {maxiter} tries.')\n",
    "    return None"
   ]
  },
  {
   "cell_type": "code",
   "execution_count": 23,
   "id": "744953ae",
   "metadata": {},
   "outputs": [],
   "source": [
    "def query(C, c, data_skip, M=100):\n",
    "        \n",
    "    mini = np.inf\n",
    "    i_mini = -1\n",
    "    \n",
    "    maxi = -np.inf\n",
    "    i_maxi = -1\n",
    "    \n",
    "    minabs = np.inf\n",
    "    i_minabs = -1\n",
    "    \n",
    "    #theta_s = np.zeros(2*d*m)\n",
    "    #for _ in range(M):\n",
    "    #    #th = sample_classifier(C, c)\n",
    "    #    th = sample_lattice(C)\n",
    "    #    if th is None:\n",
    "    #        return None, None\n",
    "    #    theta_s += (1/M) * th\n",
    "        \n",
    "    #theta_matrix = np.reshape(c, (2*d, m), order='F')\n",
    "    #U1_query=theta_matrix[:d]\n",
    "    #U2_query=theta_matrix[d:]\n",
    "    \n",
    "    for i in range(N): # search in finite data (D implicit) set to re-use dmat then\n",
    "        if i not in data_skip:\n",
    "            pred = pred_point_simplified_vec(i, c)\n",
    "            if pred < mini:\n",
    "                i_mini = 1*i\n",
    "                mini = pred\n",
    "            if pred > maxi:\n",
    "                i_maxi = 1*i\n",
    "                maxi = pred\n",
    "            if abs(pred) < minabs:\n",
    "                i_minabs = 1*i\n",
    "                minabs = abs(pred)\n",
    "    \n",
    "    return i_mini, i_maxi, i_minabs"
   ]
  },
  {
   "cell_type": "code",
   "execution_count": 24,
   "id": "42a5cc24",
   "metadata": {},
   "outputs": [],
   "source": [
    "# final convex solve\n",
    "\n",
    "def convex_solve(used):\n",
    "\n",
    "    used_unique = list(set(used))\n",
    "\n",
    "    Uopt1_final=cp.Variable((d,m)) # c_i in paper\n",
    "    Uopt2_final=cp.Variable((d,m)) # c_i' in paper\n",
    "\n",
    "    yopt1_final=cp.sum(cp.multiply(dmat[used_unique],(X[used_unique]*Uopt1_final)),axis=1)\n",
    "    yopt2_final=cp.sum(cp.multiply(dmat[used_unique],(X[used_unique]*Uopt2_final)),axis=1)\n",
    "\n",
    "    cost=cp.sum_squares(y[used_unique]-(yopt1_final-yopt2_final))/(2*n)+beta*(cp.mixed_norm(Uopt1_final.T,2,1)+cp.mixed_norm(Uopt2_final.T,2,1))\n",
    "\n",
    "    constraints=[]\n",
    "    constraints+=[cp.multiply((2*dmat[used_unique]-np.ones((len(used_unique),m))),(X[used_unique]*Uopt1_final))>=0]\n",
    "    constraints+=[cp.multiply((2*dmat[used_unique]-np.ones((len(used_unique),m))),(X[used_unique]*Uopt2_final))>=0]\n",
    "    prob_final=cp.Problem(cp.Minimize(cost),constraints)\n",
    "    prob_final.solve(solver=cp.CLARABEL,warm_start=True)\n",
    "    \n",
    "    return Uopt1_final.value, Uopt2_final.value, beta*(cp.mixed_norm(Uopt1_final.value.T,2,1)+cp.mixed_norm(Uopt2_final.value.T,2,1))"
   ]
  },
  {
   "cell_type": "code",
   "execution_count": 25,
   "id": "48388dbc",
   "metadata": {},
   "outputs": [],
   "source": [
    "# cutting plane method\n",
    "\n",
    "def cutting_plane(n_points=100, maxit=100, boxinit=False):\n",
    "    \n",
    "    data_tried = []\n",
    "    data_used = []\n",
    "    \n",
    "    Ct = []\n",
    "    if boxinit:\n",
    "        for i, (l, u) in enumerate(zip(C0_lower, C0_upper)):\n",
    "            one_vec = np.zeros(2*d*m)\n",
    "            one_vec[i] = 1\n",
    "            Ct.append((one_vec, u))\n",
    "            Ct.append((-one_vec, -l))\n",
    "    \n",
    "    c = None\n",
    "    did_cut = True\n",
    "    it = 0\n",
    "    while len(data_used) < n_points and it < maxit: # TODO: replace by proper termination criterion\n",
    "        if did_cut:\n",
    "            #if len(data_used) > 0:\n",
    "            #    _, _, reg_value = convex_solve(data_used)\n",
    "            #else:\n",
    "            #    reg_value = 1e-5\n",
    "            c = center(Ct, R=R)\n",
    "            did_cut = False\n",
    "        i_mini, i_maxi, i_minabs = query(Ct, c, data_tried)\n",
    "        if i_mini is None:\n",
    "            return Ct, c, data_used\n",
    "        data_tried += [i_mini, i_maxi]\n",
    "        #if it >= 30:\n",
    "        #    print(X[i_mini], np.sign(pred_point_simplified_vec(i_mini, c)), y[i_mini])\n",
    "        #    print(X[i_maxi], np.sign(pred_point_simplified_vec(i_maxi, c)), y[i_maxi])\n",
    "            #print(X[i_minabs], np.sign(pred_point_simplified_vec(i_minabs, c)), y[i_minabs])\n",
    "        if True: #len(data_used) < 4 * n_points // 5:\n",
    "            if np.sign(pred_point_simplified_vec(i_mini, c)) != y[i_mini]:\n",
    "                print(f'Cutting at iteration {it}')\n",
    "                cut(Ct, X[i_mini], y[i_mini], dmat[i_mini])\n",
    "                data_used.append(i_mini)\n",
    "                did_cut = True\n",
    "            if np.sign(pred_point_simplified_vec(i_maxi, c)) != y[i_maxi]:\n",
    "                print(f'Cutting at iteration {it}')\n",
    "                cut(Ct, X[i_maxi], y[i_maxi], dmat[i_maxi])\n",
    "                data_used.append(i_maxi)\n",
    "                did_cut = True\n",
    "        else:\n",
    "            if np.sign(pred_point_simplified_vec(i_minabs, c)) != y[i_minabs]:\n",
    "                print(f'Cutting at iteration {it}')\n",
    "                cut(Ct, X[i_minabs], y[i_minabs], dmat[i_minabs])\n",
    "                data_used.append(i_minabs)\n",
    "                did_cut = True\n",
    "        it += 1\n",
    "    \n",
    "    return Ct, c, data_used"
   ]
  },
  {
   "cell_type": "code",
   "execution_count": 26,
   "id": "19499960",
   "metadata": {
    "scrolled": true
   },
   "outputs": [
    {
     "name": "stdout",
     "output_type": "stream",
     "text": [
      "Cutting at iteration 0\n",
      "Cutting at iteration 0\n",
      "Cutting at iteration 2\n",
      "Cutting at iteration 2\n",
      "Cutting at iteration 3\n",
      "Cutting at iteration 8\n",
      "Cutting at iteration 9\n",
      "Cutting at iteration 9\n",
      "Cutting at iteration 15\n",
      "Cutting at iteration 16\n",
      "Cutting at iteration 19\n",
      "Cutting at iteration 20\n",
      "Cutting at iteration 22\n",
      "Cutting at iteration 23\n",
      "size of C: 3962\n",
      "used: [0, 0, 26, 41, 16, 21, 5, 34, 24, 47, 46, 29, 18, 42]\n"
     ]
    }
   ],
   "source": [
    "C, c, used = cutting_plane(15)\n",
    "print(f'size of C: {len(C)}')\n",
    "print(f'used: {used}')"
   ]
  },
  {
   "cell_type": "code",
   "execution_count": 210,
   "id": "8375755d",
   "metadata": {},
   "outputs": [],
   "source": [
    "def visualize(Uopt1v, Uopt2v, title):\n",
    "\n",
    "    yest_cvx=np.sum(drelu(Xtest@Uopt1v)*(Xtest@Uopt1v)-drelu(Xtest@Uopt2v)*(Xtest@Uopt2v),axis=1)\n",
    "    yest_bp=np.dot(relu(np.dot(Xtest,U)),w)\n",
    "\n",
    "\n",
    "    pos_cvx=np.where(np.sign(yest_cvx)==1)\n",
    "    neg_cvx=np.where(np.sign(yest_cvx)==-1)\n",
    "    pos_bp=np.where(np.sign(yest_bp)==1)\n",
    "    neg_bp=np.where(np.sign(yest_bp)==-1)\n",
    "    pos=np.where(y==1)\n",
    "    neg=np.where(y==-1)\n",
    "\n",
    "\n",
    "    fig, (ax1, ax2) = plt.subplots(1, 2, figsize=(7, 3))\n",
    "\n",
    "    ax1.plot(Xtest[pos_cvx,0],Xtest[pos_cvx,1],'co');\n",
    "    ax1.plot(Xtest[neg_cvx,0],Xtest[neg_cvx,1],'mo');\n",
    "    ax2.plot(X[pos,0],X[pos,1],'cx');\n",
    "    ax2.plot(X[neg,0],X[neg,1],'mx');\n",
    "    ax2.set_yticklabels([])\n",
    "    #ax1.set_title(\"2-layer GD\")\n",
    "    plt.savefig(f'{title}.pdf', bbox_inches='tight', dpi=100)"
   ]
  },
  {
   "cell_type": "code",
   "execution_count": 211,
   "id": "1dae24eb",
   "metadata": {},
   "outputs": [
    {
     "data": {
      "image/png": "[encoded data removed]",
      "text/plain": [
       "<Figure size 504x216 with 2 Axes>"
      ]
     },
     "metadata": {
      "needs_background": "light"
     },
     "output_type": "display_data"
    },
    {
     "data": {
      "image/png": "[encoded data removed]",
      "text/plain": [
       "<Figure size 504x216 with 2 Axes>"
      ]
     },
     "metadata": {
      "needs_background": "light"
     },
     "output_type": "display_data"
    }
   ],
   "source": [
    "theta_matrix = np.reshape(c, (2*d, m), order='F')\n",
    "visualize(theta_matrix[:d], theta_matrix[d:], 'pre_norefine')\n",
    "\n",
    "Uopt1_final_v, Uopt2_final_v, _ = convex_solve(used)\n",
    "visualize(Uopt1_final_v, Uopt2_final_v, 'post_norefine')"
   ]
  },
  {
   "cell_type": "code",
   "execution_count": null,
   "id": "2988053a",
   "metadata": {},
   "outputs": [],
   "source": []
  }
 ],
 "metadata": {
  "kernelspec": {
   "display_name": "cs224n",
   "language": "python",
   "name": "cs224n"
  },
  "language_info": {
   "codemirror_mode": {
    "name": "ipython",
    "version": 3
   },
   "file_extension": ".py",
   "mimetype": "text/x-python",
   "name": "python",
   "nbconvert_exporter": "python",
   "pygments_lexer": "ipython3",
   "version": "3.9.7"
  }
 },
 "nbformat": 4,
 "nbformat_minor": 5
}
