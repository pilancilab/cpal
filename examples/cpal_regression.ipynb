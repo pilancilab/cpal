{
 "cells": [
  {
   "cell_type": "markdown",
   "id": "55dff0cc",
   "metadata": {},
   "source": [
    "## CPAL versus Deep Active Learning Baselines on Quadratic Regression"
   ]
  },
  {
   "cell_type": "markdown",
   "id": "6f974bdb",
   "metadata": {},
   "source": [
    "In this tutorial, we walk through how to use CPAL (with two-layer ReLU Networks), linear cutting-plane active learning, DeepAL baselines, and Skactive baselines on a synthetic regression dataset."
   ]
  },
  {
   "cell_type": "code",
   "execution_count": null,
   "id": "7ab73b68",
   "metadata": {},
   "outputs": [],
   "source": [
    "import sys\n",
    "sys.path.append('..')\n",
    "from src.cpal.cpal import *\n",
    "from src.baselines.skactive_baseline import *\n",
    "from deepal_baseline.deepal_reg import run_active_learning\n",
    "from types import SimpleNamespace\n",
    "from src.baselines.evaluation import *\n",
    "from src.baselines.linear_cp import *\n",
    "from src.cpal.synthetic_data import *\n",
    "from src.cpal.plot import *"
   ]
  },
  {
   "cell_type": "code",
   "execution_count": null,
   "id": "7505dae2",
   "metadata": {},
   "outputs": [],
   "source": [
    "# Add function to suppress printing\n",
    "import contextlib\n",
    "\n",
    "@contextlib.contextmanager\n",
    "def suppress_print():\n",
    "    with open(os.devnull, 'w') as fnull:\n",
    "        old_stdout = sys.stdout\n",
    "        sys.stdout = fnull\n",
    "        try:\n",
    "            yield\n",
    "        finally:\n",
    "            sys.stdout = old_stdout"
   ]
  },
  {
   "cell_type": "markdown",
   "id": "792232a2",
   "metadata": {},
   "source": [
    "### 1. Generate synthetic data for regression"
   ]
  },
  {
   "cell_type": "code",
   "execution_count": null,
   "id": "5961b685",
   "metadata": {},
   "outputs": [],
   "source": [
    "X_all, y_all, X, y, X_test, y_test = generate_quadratic_regression()"
   ]
  },
  {
   "cell_type": "markdown",
   "id": "e8ee7936",
   "metadata": {},
   "source": [
    "### 2. CPAL (before-final-solve versus after-final-solve)"
   ]
  },
  {
   "cell_type": "code",
   "execution_count": null,
   "id": "40fd789f",
   "metadata": {},
   "outputs": [],
   "source": [
    "# 2. Run CPAL to actively learn on 15 data points\n",
    "dmat = generate_hyperplane_arrangement(X = X)\n",
    "C, c, used = cutting_plane('r', X, y, dmat, n_points = 15)\n",
    "print(f'used: {used}')"
   ]
  },
  {
   "cell_type": "code",
   "execution_count": null,
   "id": "c27c03f4",
   "metadata": {},
   "outputs": [],
   "source": [
    "n_train, m = dmat.shape\n",
    "d = X.shape[1]\n",
    "theta_matrix = np.reshape(c, (2*d,m), order ='F')\n",
    "Uopt1_v = theta_matrix[:d]\n",
    "Uopt2_v = theta_matrix[d:]\n",
    "# do the final convex solve\n",
    "Uopt1_final_v, Uopt2_final_v, _ = convex_solve(used, X, y, dmat)"
   ]
  },
  {
   "cell_type": "code",
   "execution_count": null,
   "id": "dbc7881f",
   "metadata": {},
   "outputs": [],
   "source": [
    "Uopt1_list =  [Uopt1_final_v, Uopt1_v]\n",
    "Uopt2_list =  [Uopt2_final_v, Uopt2_v]\n",
    "visualize_quadratic_regression(Uopt1_list, Uopt2_list, X_all, X, y, X_test, y_test, used, alpha = 0.95, plot_band = False, title = 'CPAL on Quadratic Regression (BFS vs AFS)')"
   ]
  },
  {
   "cell_type": "markdown",
   "id": "53cbe3df",
   "metadata": {},
   "source": [
    "### 3. Linear Cutting-Plane Baseline"
   ]
  },
  {
   "cell_type": "markdown",
   "id": "1b6aba81",
   "metadata": {},
   "source": [
    "Since quadratic regression is nonlinear, linear cutting-plane learning will eventually become infeasible. Here, we select only 4 points—just enough before the solver breaks down due to infeasibility."
   ]
  },
  {
   "cell_type": "code",
   "execution_count": null,
   "id": "1995c250",
   "metadata": {},
   "outputs": [],
   "source": [
    "C, c, used = linear_cutting_plane_regression(X, y, n_points = 4)\n",
    "print(f'used: {used}')"
   ]
  },
  {
   "cell_type": "code",
   "execution_count": null,
   "id": "3883db4b",
   "metadata": {},
   "outputs": [],
   "source": [
    "visualize_regression_linear(c, X_all, X, y, X_test, y_test, used, plot_band = False)"
   ]
  },
  {
   "cell_type": "markdown",
   "id": "e01ca4df",
   "metadata": {},
   "source": [
    "### 4. Skactive baseline"
   ]
  },
  {
   "cell_type": "code",
   "execution_count": null,
   "id": "be6b732d",
   "metadata": {},
   "outputs": [],
   "source": [
    "# first, process the data to be compatiable with skactive\n",
    "X_all_skactive, X_skactive, X_test_skactive = adapt_data_for_scikit_al(X_all, X, X_test)"
   ]
  },
  {
   "cell_type": "code",
   "execution_count": null,
   "id": "79f2de99",
   "metadata": {},
   "outputs": [],
   "source": [
    "strategies = ['greedyX', 'greedyTarget', 'qbc', 'kldiv']\n",
    "results = run_active_learning_strategies(\n",
    "    X_all=X_all_skactive,\n",
    "    y_all=y_all,\n",
    "    X=X_skactive,\n",
    "    y=y,\n",
    "    X_test=X_test_skactive,\n",
    "    y_test=y_test,\n",
    "    strategies=strategies,\n",
    "    active_learning_fn=active_learning_skactiveml,  # your function\n",
    "    data_budget=10,\n",
    "    show_plots = False,\n",
    "    save_plots = False\n",
    ")"
   ]
  },
  {
   "cell_type": "code",
   "execution_count": null,
   "id": "85c67b91",
   "metadata": {},
   "outputs": [],
   "source": [
    "# add cpal results to the plots\n",
    "cpal_dict = format_selected_data(X, y, used, 'cpal')\n",
    "results.update(cpal_dict)"
   ]
  },
  {
   "cell_type": "markdown",
   "id": "799efa71",
   "metadata": {},
   "source": [
    "### 5. Run DeepAL baseline"
   ]
  },
  {
   "cell_type": "code",
   "execution_count": null,
   "id": "381ca69a",
   "metadata": {},
   "outputs": [],
   "source": [
    "deepal_selected_indices = []\n",
    "deepal_strategies = [\"RandomSampling\", \"LeastConfidence\", \"EntropySampling\",\"KMeansSampling\", \"BALDDropout\"]\n",
    "\n",
    "with suppress_print():\n",
    "    for al in deepal_strategies:\n",
    "        args = SimpleNamespace(\n",
    "            seed=1,\n",
    "            n_init_labeled=1,\n",
    "            n_query=1,\n",
    "            n_round=14,\n",
    "            dataset_name='Quadratic',\n",
    "            strategy_name=al\n",
    "        )\n",
    "\n",
    "        selected_indices, rmse_train, rmse_test, strategy, dataset, net, device = run_active_learning(args)\n",
    "        deepal_selected_indices.append(selected_indices)"
   ]
  },
  {
   "cell_type": "markdown",
   "id": "a5cee73e",
   "metadata": {},
   "source": [
    "### 6. Compare all active learning strategies"
   ]
  },
  {
   "cell_type": "code",
   "execution_count": null,
   "id": "00a571c8",
   "metadata": {},
   "outputs": [],
   "source": [
    "# update results dictionary\n",
    "for al, ind in zip(deepal_strategies, deepal_selected_indices):\n",
    "    al_dict = format_selected_data(X, y, ind, al)\n",
    "    results.update(al_dict)"
   ]
  },
  {
   "cell_type": "code",
   "execution_count": null,
   "id": "d5b97e3b",
   "metadata": {},
   "outputs": [],
   "source": [
    "evaluate_dnn_from_al_results_regression(results, X_all, y_all)"
   ]
  }
 ],
 "metadata": {
  "kernelspec": {
   "display_name": "base",
   "language": "python",
   "name": "python3"
  },
  "language_info": {
   "codemirror_mode": {
    "name": "ipython",
    "version": 3
   },
   "file_extension": ".py",
   "mimetype": "text/x-python",
   "name": "python",
   "nbconvert_exporter": "python",
   "pygments_lexer": "ipython3",
   "version": "3.9.7"
  }
 },
 "nbformat": 4,
 "nbformat_minor": 5
}
