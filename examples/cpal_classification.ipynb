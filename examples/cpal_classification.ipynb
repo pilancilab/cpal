{
 "cells": [
  {
   "cell_type": "markdown",
   "id": "a8a59dfd",
   "metadata": {},
   "source": [
    "## CPAL versus Deep Active Learning Baselines on Synthetic Spiral"
   ]
  },
  {
   "cell_type": "markdown",
   "id": "2bd0da6c",
   "metadata": {},
   "source": [
    "In this tutorial, we walk through how to use CPAL (with two-layer ReLU Networks), linear cutting-plane active learning, DeepAL baselines, and Skactive baselines on a binary classification task using a synthetic spiral."
   ]
  },
  {
   "cell_type": "code",
   "execution_count": null,
   "id": "e230d964",
   "metadata": {},
   "outputs": [],
   "source": [
    "import sys\n",
    "sys.path.append('..')\n",
    "from src.cpal.cpal import *\n",
    "from src.baselines.linear_cp import *\n",
    "from types import SimpleNamespace\n",
    "from deepal_baseline.deepal_class import run_active_learning\n",
    "from src.baselines.evaluation import *\n",
    "from src.cpal.synthetic_data import *\n",
    "from src.cpal.plot import *"
   ]
  },
  {
   "cell_type": "markdown",
   "id": "f48f7c98",
   "metadata": {},
   "source": [
    "### (1). Generate synthetic data"
   ]
  },
  {
   "cell_type": "code",
   "execution_count": null,
   "id": "41fe5132",
   "metadata": {},
   "outputs": [],
   "source": [
    "X_all, y_all, X, y, X_test, y_test = generate_spiral_data()"
   ]
  },
  {
   "cell_type": "markdown",
   "id": "691e9cb6",
   "metadata": {},
   "source": [
    "### (2). Sample hyperplane arrangements"
   ]
  },
  {
   "cell_type": "code",
   "execution_count": null,
   "id": "ec84b047",
   "metadata": {},
   "outputs": [],
   "source": [
    "dmat = generate_hyperplane_arrangement(X = X, P = 1000)\n",
    "n_train, m = dmat.shape\n",
    "print(f'dmat shape: {dmat.shape}')"
   ]
  },
  {
   "cell_type": "markdown",
   "id": "02a41675",
   "metadata": {},
   "source": [
    "### (3). CPAL with two-layer ReLU networks (Before-Final-Solve vs. After-Final-Solve)"
   ]
  },
  {
   "cell_type": "code",
   "execution_count": null,
   "id": "f6446408",
   "metadata": {},
   "outputs": [],
   "source": [
    "C, c, used = cutting_plane('c',X, y, dmat, n_points = 20)\n",
    "print(f'used: {used}')"
   ]
  },
  {
   "cell_type": "code",
   "execution_count": null,
   "id": "0ee15acb",
   "metadata": {},
   "outputs": [],
   "source": [
    "n_train, m = dmat.shape\n",
    "d = X.shape[1]\n",
    "theta_matrix = np.reshape(c, (2*d,m), order ='F') # the resulting theta_matrix is of shape (2d, m)\n",
    "Uopt1_v = theta_matrix[:d]\n",
    "Uopt2_v = theta_matrix[d:]\n",
    "# do the final convex solve\n",
    "Uopt1_final_v, Uopt2_final_v, _ = convex_solve(used, X, y, dmat)"
   ]
  },
  {
   "cell_type": "code",
   "execution_count": null,
   "id": "01c42342",
   "metadata": {},
   "outputs": [],
   "source": [
    "print('------------')\n",
    "print('Model evaluation for CPAL (before final convex solve).')\n",
    "evaluate_model_performance(task = 'c', X_test = X_test, y_test = y_test, Uopt1 = Uopt1_v, Uopt2 = Uopt2_v, X_train = X, y_train = y)"
   ]
  },
  {
   "cell_type": "code",
   "execution_count": null,
   "id": "9f8de23d",
   "metadata": {},
   "outputs": [],
   "source": [
    "print('------------')\n",
    "print('Model evaluation for CPAL (after final convex solve).')\n",
    "evaluate_model_performance(task = 'c', X_test = X_test, y_test = y_test, Uopt1 = Uopt1_final_v, Uopt2 = Uopt2_final_v, X_train = X, y_train = y)"
   ]
  },
  {
   "cell_type": "code",
   "execution_count": null,
   "id": "f2285bfb",
   "metadata": {},
   "outputs": [],
   "source": [
    "# plot decision boundary for both\n",
    "plot_decision_boundary(\n",
    "    X=X,\n",
    "    y=y,\n",
    "    X_test=X_test,\n",
    "    y_test=y_test,\n",
    "    name='Decision Boundary for CPAL (Before final solve)',\n",
    "    selected_indices = used,\n",
    "    Uopt1v=Uopt1_v,\n",
    "    Uopt2v=Uopt2_v,\n",
    "    plot_type='cvx'\n",
    ")"
   ]
  },
  {
   "cell_type": "code",
   "execution_count": null,
   "id": "4f1f12a6",
   "metadata": {},
   "outputs": [],
   "source": [
    "plot_decision_boundary(\n",
    "    X=X,\n",
    "    y=y,\n",
    "    X_test=X_test,\n",
    "    y_test=y_test,\n",
    "    selected_indices=used,\n",
    "    name='Decision Boundary for CPAL (After final solve)',\n",
    "    Uopt1v=Uopt1_final_v,\n",
    "    Uopt2v=Uopt2_final_v,\n",
    "    plot_type='cvx'\n",
    ")"
   ]
  },
  {
   "cell_type": "markdown",
   "id": "88f69929",
   "metadata": {},
   "source": [
    "### (4). Linear Cutting-Plane Baseline"
   ]
  },
  {
   "cell_type": "code",
   "execution_count": null,
   "id": "36a4b44f",
   "metadata": {},
   "outputs": [],
   "source": [
    "C, c, used = linear_cutting_plane_classification(X, y, m, 20)\n",
    "print(f'used: {used}')"
   ]
  },
  {
   "cell_type": "code",
   "execution_count": null,
   "id": "250c888f",
   "metadata": {},
   "outputs": [],
   "source": [
    "plot_decision_boundary_linear(X_all, X, y, X_test, y_test, c, used)"
   ]
  },
  {
   "cell_type": "markdown",
   "id": "04971fb5",
   "metadata": {},
   "source": [
    "### (5). Run DeepAL baselines"
   ]
  },
  {
   "cell_type": "markdown",
   "id": "a5ce72e0",
   "metadata": {},
   "source": [
    "Try our sample runs by calling the following commands in the terminal:\n",
    "\n",
    "``python -m deepal_baseline.demo \\\n",
    "   --n_round 3 \\\n",
    "   --n_query 10 \\\n",
    "   --n_init_labeled 10 \\\n",
    "   --dataset_name Spiral \\\n",
    "   --strategy_name EntropySampling\\\n",
    "   --seed 1``\n",
    "\n",
    "   Or equivalently, use:"
   ]
  },
  {
   "cell_type": "code",
   "execution_count": null,
   "id": "e8a1e6ff",
   "metadata": {},
   "outputs": [],
   "source": [
    "deepal_selected_indices = []\n",
    "deepal_strategies = [\"RandomSampling\", \"LeastConfidence\", \"EntropySampling\",\"KMeansSampling\", \"BALDDropout\"]\n",
    "\n",
    "\n",
    "for al in deepal_strategies:\n",
    "    args = SimpleNamespace(\n",
    "        seed=1,\n",
    "        n_init_labeled=1,\n",
    "        n_query=1,\n",
    "        n_round=14,\n",
    "        dataset_name='Spiral',\n",
    "        strategy_name=al,\n",
    "        save_dir=\"class_plots\",\n",
    "        save_pickle=\"class_accuracy\"\n",
    "    )\n",
    "\n",
    "    selected_indices, rmse_train, rmse_test, strategy, dataset, net, device = run_active_learning(args)\n",
    "    deepal_selected_indices.append(selected_indices)"
   ]
  }
 ],
 "metadata": {
  "kernelspec": {
   "display_name": "base",
   "language": "python",
   "name": "python3"
  },
  "language_info": {
   "codemirror_mode": {
    "name": "ipython",
    "version": 3
   },
   "file_extension": ".py",
   "mimetype": "text/x-python",
   "name": "python",
   "nbconvert_exporter": "python",
   "pygments_lexer": "ipython3",
   "version": "3.9.7"
  }
 },
 "nbformat": 4,
 "nbformat_minor": 5
}
