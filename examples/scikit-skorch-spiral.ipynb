{
 "cells": [
  {
   "cell_type": "code",
   "execution_count": 1,
   "id": "a785a4fe-c18e-4d3d-8397-8e5c693c8ee1",
   "metadata": {},
   "outputs": [],
   "source": [
    "import matplotlib as mlp\n",
    "import matplotlib.pyplot as plt\n",
    "import numpy as np\n",
    "import torch\n",
    "import warnings\n",
    "import math\n",
    "\n",
    "from copy import deepcopy\n",
    "from skactiveml.classifier import SklearnClassifier\n",
    "from skactiveml.pool import UncertaintySampling, QueryByCommittee, RandomSampling, BatchBALD, DiscriminativeAL, GreedySamplingX, GreedySamplingTarget, QueryByCommittee, \\\n",
    "    KLDivergenceMaximization, ExpectedModelChangeMaximization\n",
    "from skactiveml.utils import call_func, unlabeled_indices\n",
    "from sklearn.datasets import fetch_openml\n",
    "from sklearn.ensemble import VotingClassifier\n",
    "from sklearn.model_selection import train_test_split\n",
    "from sklearn.preprocessing import StandardScaler\n",
    "from skorch import NeuralNetClassifier\n",
    "from torch import nn\n",
    "import torch.nn.functional as F\n",
    "from torchvision.transforms import transforms\n",
    "from tqdm import tqdm\n",
    "import matplotlib.colors as mcolors"
   ]
  },
  {
   "cell_type": "code",
   "execution_count": 2,
   "id": "805fd0e6-937a-4db0-b773-5172a4659123",
   "metadata": {},
   "outputs": [],
   "source": [
    "mlp.rcParams[\"figure.facecolor\"] = \"white\"\n",
    "\n",
    "MISSING_LABEL = -5\n",
    "RANDOM_STATE = 0\n",
    "FONTSIZE = 12\n",
    "\n",
    "np.random.seed(RANDOM_STATE)\n",
    "torch.manual_seed(RANDOM_STATE)\n",
    "torch.cuda.manual_seed(RANDOM_STATE)\n",
    "device = 'cuda' if torch.cuda.is_available() else 'cpu'\n",
    "torch.backends.cudnn.deterministic = True\n",
    "\n",
    "warnings.filterwarnings(\"ignore\")"
   ]
  },
  {
   "cell_type": "markdown",
   "id": "f712aa2a-1f3d-4532-95cd-f412e19251ec",
   "metadata": {},
   "source": [
    "# 1. Classification"
   ]
  },
  {
   "cell_type": "code",
   "execution_count": 3,
   "id": "ecd43708-0f97-45b4-9f40-05b9dcf96710",
   "metadata": {},
   "outputs": [],
   "source": [
    "def spiral_xy(i, total_points, spiral_num, n_shape = 50):\n",
    "    \"\"\"\n",
    "    Create the data for a normalized spiral.\n",
    "\n",
    "    Arguments:\n",
    "        i runs from 0 to total_points-1.\n",
    "        total_points is the total number of points in the spiral.\n",
    "        spiral_num is 1 or -1.\n",
    "        n_shape is an int which determines the shape of spiral wrt function, unscaled_spiral_xy.\n",
    "    \"\"\"\n",
    "    # Normalize i to always fit in the range [0, 96], which is the original range.\n",
    "    i_normalized = i * n_shape / (total_points - 1)\n",
    "    φ = i_normalized / 16 * math.pi\n",
    "    r = 6.5 * ((104 - i_normalized) / 104)\n",
    "    x = (r * math.cos(φ) * spiral_num) / 13 + 0.5\n",
    "    y = (r * math.sin(φ) * spiral_num) / 13 + 0.5  # spiral_num mirrors the orientation of the spiral\n",
    "    return (x, y)\n",
    "\n",
    "\n",
    "def spiral(spiral_num, n=100, n_shape = 50):\n",
    "    \"\"\"\n",
    "    Generate either a clockwise (+1) spiral or a counter clockwise (-1) spiral for a total of n points.\n",
    "\n",
    "    Arguments:\n",
    "        spiral_num: 1 or -1 determines the orientation of the spiral.\n",
    "        n: total number of points in a spiral.\n",
    "    \"\"\"\n",
    "    return [spiral_xy(i, n, spiral_num, n_shape) for i in range(n//2)]\n",
    "\n",
    "\n",
    "def generate_spiral_data(n=100, n_train = 80, n_shape = 50, seed = RANDOM_STATE, default_label = True):\n",
    "    \"\"\"\n",
    "    Generate binary spiral classification data.\n",
    "\n",
    "    Arguments:\n",
    "        n: total number of points in a spiral.\n",
    "        n_train: numbr of training points.\n",
    "        seed: permutation randomization seed.\n",
    "        default_label: True uses label +/-1 and False uses label 0/1\n",
    "    \"\"\"\n",
    "    a = spiral(1,n,n_shape)\n",
    "    b = spiral(-1,n,n_shape)\n",
    "    # Combine spiral from both orientation as one and scaling feature space from (0,1)^2 to (-1,1)^2\n",
    "    X_all=2*np.concatenate((a,b),axis=0)-1 \n",
    "    X_all=np.append(X_all,np.ones((n,1)),axis=1) # Adding bias to the feature space\n",
    "    # concatenate the labels of the spiral, which is their orientation (+1/-1)\n",
    "    if default_label:\n",
    "        y_all=np.concatenate((np.ones(n//2),-np.ones(n//2))) \n",
    "    else:\n",
    "        y_all=np.concatenate((np.ones(n//2),np.zeros(n//2))) # reset -1 to 0.\n",
    "    # randomize data indices\n",
    "    np.random.seed(seed)\n",
    "    idx = np.random.permutation(n)\n",
    "    X_all = X_all[idx]\n",
    "    y_all = y_all[idx]\n",
    "    # Split into training and testing sets\n",
    "    X_train, y_train = X_all[:n_train], y_all[:n_train]\n",
    "    X_test, y_test = X_all[n_train:], y_all[n_train:]\n",
    "    \n",
    "    return X_all, y_all, X_train, y_train, X_test, y_test"
   ]
  },
  {
   "cell_type": "code",
   "execution_count": 4,
   "id": "84655ea3-c290-4d29-a6db-f37a6c94ba5d",
   "metadata": {},
   "outputs": [],
   "source": [
    "X_all, y_all, X_train, y_train, X_test, y_test = generate_spiral_data(seed = RANDOM_STATE, default_label = False)"
   ]
  },
  {
   "cell_type": "code",
   "execution_count": 5,
   "id": "1079d287-9421-4ec0-9e43-7d9e9a509e50",
   "metadata": {},
   "outputs": [],
   "source": [
    "# Convert data to float32 as required by PyTorch\n",
    "X_train = X_train.astype(np.float32)\n",
    "X_test = X_test.astype(np.float32)\n",
    "y_train = y_train.astype(np.int64)\n",
    "y_test = y_test.astype(np.int64)"
   ]
  },
  {
   "cell_type": "code",
   "execution_count": 6,
   "id": "379db825-63ca-4cd5-b418-d015b8d967e6",
   "metadata": {},
   "outputs": [],
   "source": [
    "classes = np.unique(y_train)"
   ]
  },
  {
   "cell_type": "code",
   "execution_count": 7,
   "id": "39911c22-c990-4f12-9f83-6477b7f515ef",
   "metadata": {},
   "outputs": [
    {
     "name": "stdout",
     "output_type": "stream",
     "text": [
      "(80, 3) (80,) [0 1]\n"
     ]
    }
   ],
   "source": [
    "# sanity check\n",
    "print(X_train.shape,y_train.shape, np.unique(y_train))"
   ]
  },
  {
   "cell_type": "code",
   "execution_count": 8,
   "id": "84febba1-e60d-43db-84cc-b93b1ce3a503",
   "metadata": {},
   "outputs": [],
   "source": [
    "class ClassifierModule(nn.Module):\n",
    "    def __init__(self, n_classes=2, dropout=0.5):\n",
    "        super(ClassifierModule, self).__init__()\n",
    "        self.fc1 = nn.Linear(3, 623)  # Input is 3-dimensional (x, y, bias)\n",
    "        self.fc3 = nn.Linear(623, n_classes)  # Output is 2 classes (binary classification)\n",
    "\n",
    "    def forward(self, x):\n",
    "        x = F.relu(self.fc1(x))\n",
    "        x = F.dropout(x, training=self.training)  # Dropout applied only during training\n",
    "        x = self.fc3(x)\n",
    "        return x"
   ]
  },
  {
   "cell_type": "code",
   "execution_count": 9,
   "id": "9d5b628c-2af5-4bd7-93d6-e8b4acbafc3b",
   "metadata": {},
   "outputs": [],
   "source": [
    "# create initial estimators\n",
    "estimators = []\n",
    "for i in range(5):\n",
    "    # Initialize the NeuralNetClassifier with skorch\n",
    "    net = NeuralNetClassifier(\n",
    "    ClassifierModule,\n",
    "    max_epochs=2000,\n",
    "    lr=0.001,\n",
    "    verbose=False,\n",
    "    criterion = torch.nn.CrossEntropyLoss,\n",
    "    optimizer=torch.optim.SGD,\n",
    "    optimizer__momentum=0.9,\n",
    "    optimizer__weight_decay=3e-3,\n",
    "    batch_size=16,\n",
    "    iterator_train__shuffle=True,  # Shuffle with the seed fixed\n",
    "    train_split=None)  # Disable internal validation split)\n",
    "\n",
    "    net.initialize()\n",
    "    clf = SklearnClassifier(\n",
    "        estimator=net,\n",
    "        missing_label=MISSING_LABEL,\n",
    "        random_state=i,\n",
    "        classes=classes,\n",
    "    )\n",
    "    estimators.append((f'clf {i}', clf))\n",
    "\n",
    "# Creat voting ensemble out of given ensemble list.\n",
    "ensemble_init = SklearnClassifier(\n",
    "    estimator=VotingClassifier(estimators=estimators, voting='soft'),\n",
    "    missing_label=MISSING_LABEL,\n",
    "    random_state=RANDOM_STATE,\n",
    "    classes=classes,\n",
    ")"
   ]
  },
  {
   "cell_type": "code",
   "execution_count": 10,
   "id": "45843287-2c29-4df2-8652-2b7c5edf23d5",
   "metadata": {},
   "outputs": [],
   "source": [
    "def scikit_activeml_clf(n_cycles,X_all,y_all,X_train,y_train,X_test,y_test,strategy, estimators, seed = RANDOM_STATE, plot = False):\n",
    "    # output is test/train accuracy rate, final ensemble, and chosen indices\n",
    "    torch.manual_seed(RANDOM_STATE)\n",
    "    torch.cuda.manual_seed(RANDOM_STATE)\n",
    "    \n",
    "    if strategy == 'greedyX':\n",
    "        qs = GreedySamplingX(random_state=RANDOM_STATE, missing_label=MISSING_LABEL)\n",
    "    elif strategy == 'qbc':\n",
    "        qs = QueryByCommittee(random_state=RANDOM_STATE, missing_label=MISSING_LABEL)\n",
    "    \n",
    "   \n",
    "    ensemble = deepcopy(ensemble_init)\n",
    "\n",
    "    # Create array of missing labels as initial labels.\n",
    "    y = np.full_like(y_train, fill_value=MISSING_LABEL, dtype=np.int64)\n",
    "    X = X_train\n",
    "\n",
    "    # Label one sample from each class for warm start. No warm start\n",
    "    # for i in range(2):\n",
    "    #     y[np.argwhere(y_train==i)[0]] = i\n",
    "    \n",
    "    \n",
    "    queries = []\n",
    "\n",
    "    # Execute active learning cycle.\n",
    "    for c in tqdm(range(n_cycles)):\n",
    "        # Fit and evaluate ensemble.\n",
    "        ensemble.fit(X, y) # base model\n",
    "        # test_acc = ensemble.score(X_test, y_test)\n",
    "        # train_acc = ensemble.score(X_train, y_train)\n",
    "        # train_acc_dict[qs_name][c] = train_acc\n",
    "\n",
    "        # Select and update training data.\n",
    "        query_idx = call_func(\n",
    "            qs.query,\n",
    "            X=X,\n",
    "            y=y,\n",
    "            clf=ensemble,\n",
    "            fit_clf=False,\n",
    "            ensemble=ensemble,\n",
    "            fit_ensemble=False,\n",
    "            batch_size=1,\n",
    "        )\n",
    "        # query_idx = ulbd_indices[query_idx]\n",
    "        y[query_idx] = y_train[query_idx]\n",
    "        queries.append(query_idx)\n",
    "\n",
    "    # Fit and evaluate ensemble after queries.\n",
    "    ensemble.fit(X, y)\n",
    "    test_acc = ensemble.score(X_test, y_test)\n",
    "    train_acc = ensemble.score(X_train, y_train)\n",
    "    \n",
    "    if plot:\n",
    "        # Plot decision boundary\n",
    "        x_min, x_max = -1, 1\n",
    "        y_min, y_max = -1, 1\n",
    "\n",
    "        # Create a grid of points\n",
    "        x1 = np.linspace(x_min, x_max, 100)\n",
    "        x2 = np.linspace(y_min, y_max, 100)\n",
    "        x1, x2 = np.meshgrid(x1, x2)\n",
    "        Xtest = np.c_[x1.ravel(), x2.ravel()]\n",
    "        Xtest = np.append(Xtest, np.ones((Xtest.shape[0], 1)), axis=1)  # Add the bias term\n",
    "        Xtest = Xtest.astype(np.float32)\n",
    "        # print(len(Xtest))\n",
    "        yest = ensemble.predict(Xtest)\n",
    "        # print(len(yest))\n",
    "        yest = yest.reshape(x1.shape)\n",
    "\n",
    "        # Create subplots\n",
    "        fig, ax = plt.subplots(figsize=(7, 7))\n",
    "\n",
    "        # Define the custom colors\n",
    "        colors = ['#920783', '#00b7c7']  # Switched the colors to match the image\n",
    "        cmap = mcolors.ListedColormap(colors)\n",
    "\n",
    "        # Plot the decision boundary with custom colors\n",
    "        ax.contourf(x1, x2, yest, alpha=0.3, cmap=cmap)\n",
    "        scatter = ax.scatter(X_train[:, 0], X_train[:, 1], c=y_train, edgecolor='k', s=20, cmap=cmap)\n",
    "\n",
    "        ax.set_xlabel('x1')\n",
    "        ax.set_ylabel('x2')\n",
    "        ax.set_xlim(x_min, x_max)\n",
    "        ax.set_ylim(y_min, y_max)\n",
    "\n",
    "        plt.show()\n",
    "        \n",
    "    return test_acc, train_acc, ensemble, queries"
   ]
  },
  {
   "cell_type": "code",
   "execution_count": 11,
   "id": "62b39c1f-5bde-4ed8-904c-9f7f943ca5ac",
   "metadata": {},
   "outputs": [
    {
     "data": {
      "text/plain": [
       "array([ 1,  5, 10, 15, 20, 25, 30, 35, 40, 45, 50])"
      ]
     },
     "execution_count": 11,
     "metadata": {},
     "output_type": "execute_result"
    }
   ],
   "source": [
    "itr_ls = np.arange(0,55,5)\n",
    "itr_ls[0] = 1\n",
    "itr_ls"
   ]
  },
  {
   "cell_type": "code",
   "execution_count": 12,
   "id": "d81600a7-889c-4060-8cca-8077c0c38658",
   "metadata": {},
   "outputs": [
    {
     "name": "stderr",
     "output_type": "stream",
     "text": [
      "100%|██████████| 1/1 [00:00<00:00, 41.20it/s]\n",
      "100%|██████████| 1/1 [00:00<00:00, 108.63it/s]\n"
     ]
    },
    {
     "name": "stdout",
     "output_type": "stream",
     "text": [
      "1\n"
     ]
    },
    {
     "name": "stderr",
     "output_type": "stream",
     "text": [
      "100%|██████████| 5/5 [00:45<00:00,  9.13s/it]\n",
      "100%|██████████| 5/5 [00:45<00:00,  9.16s/it]\n"
     ]
    },
    {
     "name": "stdout",
     "output_type": "stream",
     "text": [
      "5\n"
     ]
    },
    {
     "name": "stderr",
     "output_type": "stream",
     "text": [
      "100%|██████████| 10/10 [01:53<00:00, 11.32s/it]\n",
      "100%|██████████| 10/10 [01:55<00:00, 11.57s/it]\n"
     ]
    },
    {
     "name": "stdout",
     "output_type": "stream",
     "text": [
      "10\n"
     ]
    },
    {
     "name": "stderr",
     "output_type": "stream",
     "text": [
      "100%|██████████| 15/15 [03:10<00:00, 12.69s/it]\n",
      "100%|██████████| 15/15 [03:14<00:00, 12.96s/it]\n"
     ]
    },
    {
     "name": "stdout",
     "output_type": "stream",
     "text": [
      "15\n"
     ]
    },
    {
     "name": "stderr",
     "output_type": "stream",
     "text": [
      "100%|██████████| 20/20 [04:58<00:00, 14.91s/it]\n",
      "100%|██████████| 20/20 [05:03<00:00, 15.19s/it]\n"
     ]
    },
    {
     "name": "stdout",
     "output_type": "stream",
     "text": [
      "20\n"
     ]
    },
    {
     "name": "stderr",
     "output_type": "stream",
     "text": [
      "100%|██████████| 25/25 [07:04<00:00, 16.97s/it]\n",
      "100%|██████████| 25/25 [07:13<00:00, 17.35s/it]\n"
     ]
    },
    {
     "name": "stdout",
     "output_type": "stream",
     "text": [
      "25\n"
     ]
    },
    {
     "name": "stderr",
     "output_type": "stream",
     "text": [
      "100%|██████████| 30/30 [09:42<00:00, 19.42s/it]\n",
      "100%|██████████| 30/30 [09:38<00:00, 19.30s/it]\n"
     ]
    },
    {
     "name": "stdout",
     "output_type": "stream",
     "text": [
      "30\n"
     ]
    },
    {
     "name": "stderr",
     "output_type": "stream",
     "text": [
      "100%|██████████| 35/35 [12:33<00:00, 21.53s/it]\n",
      "100%|██████████| 35/35 [12:50<00:00, 22.01s/it]\n"
     ]
    },
    {
     "name": "stdout",
     "output_type": "stream",
     "text": [
      "35\n"
     ]
    },
    {
     "name": "stderr",
     "output_type": "stream",
     "text": [
      "100%|██████████| 40/40 [16:44<00:00, 25.11s/it]\n",
      "100%|██████████| 40/40 [16:49<00:00, 25.23s/it]\n"
     ]
    },
    {
     "name": "stdout",
     "output_type": "stream",
     "text": [
      "40\n"
     ]
    },
    {
     "name": "stderr",
     "output_type": "stream",
     "text": [
      "100%|██████████| 45/45 [20:29<00:00, 27.32s/it]\n",
      "100%|██████████| 45/45 [20:20<00:00, 27.12s/it]\n"
     ]
    },
    {
     "name": "stdout",
     "output_type": "stream",
     "text": [
      "45\n"
     ]
    },
    {
     "name": "stderr",
     "output_type": "stream",
     "text": [
      "100%|██████████| 50/50 [22:49<00:00, 27.40s/it]\n",
      "100%|██████████| 50/50 [22:34<00:00, 27.08s/it]\n"
     ]
    },
    {
     "name": "stdout",
     "output_type": "stream",
     "text": [
      "50\n"
     ]
    }
   ],
   "source": [
    "test_acc_greedy = []\n",
    "train_acc_greedy = []\n",
    "test_acc_qbc = []\n",
    "train_acc_qbc = []\n",
    "for i in itr_ls:\n",
    "    test_acc, train_acc, ensemble, queries = scikit_activeml_clf(i,X_all,y_all,X_train,y_train,X_test,y_test,'greedyX', 623, RANDOM_STATE, False)\n",
    "    test_acc_greedy.append(test_acc)\n",
    "    train_acc_greedy.append(train_acc)\n",
    "    test_acc, train_acc, ensemble, queries = scikit_activeml_clf(i,X_all,y_all,X_train,y_train,X_test,y_test,'qbc', 623, RANDOM_STATE, False)\n",
    "    test_acc_qbc.append(test_acc)\n",
    "    train_acc_qbc.append(train_acc)\n",
    "    print(i)"
   ]
  },
  {
   "cell_type": "code",
   "execution_count": 13,
   "id": "a2c3021f-44aa-43c9-a9b8-711bc6fb1c2e",
   "metadata": {},
   "outputs": [],
   "source": [
    "import pickle # for saving lists"
   ]
  },
  {
   "cell_type": "code",
   "execution_count": 14,
   "id": "1bd0b749-4b81-4228-8e8b-4c65455acb9b",
   "metadata": {},
   "outputs": [],
   "source": [
    "with open(f'acc_greedyX_test50_seed0.pkl', 'wb') as f:\n",
    "    pickle.dump(test_acc_greedy, f)\n",
    "\n",
    "with open(f'acc_greedyX_train50_seed0.pkl', 'wb') as f:\n",
    "    pickle.dump(train_acc_greedy, f)\n",
    "    \n",
    "with open(f'acc_qbc_test50_seed0.pkl', 'wb') as f:\n",
    "    pickle.dump(test_acc_qbc, f)\n",
    "\n",
    "with open(f'acc_qbc_train50_seed0.pkl', 'wb') as f:\n",
    "    pickle.dump(train_acc_qbc, f)"
   ]
  },
  {
   "cell_type": "code",
   "execution_count": 16,
   "id": "a692e649-5af8-45be-8d8c-bd00cad00a2e",
   "metadata": {},
   "outputs": [
    {
     "name": "stdout",
     "output_type": "stream",
     "text": [
      "Execute active learning using greedyX.\n"
     ]
    },
    {
     "name": "stderr",
     "output_type": "stream",
     "text": [
      "100%|██████████| 15/15 [03:05<00:00, 12.39s/it]\n"
     ]
    },
    {
     "data": {
      "image/png": "[encoded data removed]",
      "text/plain": [
       "<Figure size 700x700 with 1 Axes>"
      ]
     },
     "metadata": {},
     "output_type": "display_data"
    },
    {
     "name": "stdout",
     "output_type": "stream",
     "text": [
      "Execute active learning using qbc.\n"
     ]
    },
    {
     "name": "stderr",
     "output_type": "stream",
     "text": [
      "100%|██████████| 15/15 [03:06<00:00, 12.43s/it]\n"
     ]
    },
    {
     "data": {
      "image/png": "[encoded data removed]",
      "text/plain": [
       "<Figure size 700x700 with 1 Axes>"
      ]
     },
     "metadata": {},
     "output_type": "display_data"
    }
   ],
   "source": [
    "# Modified setup.\n",
    "n_cycles = 15\n",
    "batch_size = 1 # query 1 data point per step\n",
    "# n_sub_set = 1000 # no subset\n",
    "# qs_dict = {\n",
    "#     'random sampling': RandomSampling(random_state=RANDOM_STATE, missing_label=MISSING_LABEL),\n",
    "#     'uncertainty sampling': UncertaintySampling(random_state=RANDOM_STATE, missing_label=MISSING_LABEL),\n",
    "#     'query-by-committee': QueryByCommittee(random_state=RANDOM_STATE, missing_label=MISSING_LABEL),\n",
    "#     'batch-bald': BatchBALD(random_state=RANDOM_STATE, missing_label=MISSING_LABEL),\n",
    "# }\n",
    "qs_dict = {\n",
    "        'greedyX': GreedySamplingX(random_state=RANDOM_STATE, missing_label=MISSING_LABEL),\n",
    "        'qbc': QueryByCommittee(random_state=RANDOM_STATE, missing_label=MISSING_LABEL),\n",
    "}\n",
    "\n",
    "test_acc_dict = {key: np.zeros(n_cycles+1) for key in qs_dict}\n",
    "train_acc_dict = {key: np.zeros(n_cycles+1) for key in qs_dict}\n",
    "\n",
    "# Perform active learning with each query strategy.\n",
    "for qs_name, qs in qs_dict.items():\n",
    "    torch.manual_seed(RANDOM_STATE)\n",
    "    torch.cuda.manual_seed(RANDOM_STATE)\n",
    "\n",
    "    print(f'Execute active learning using {qs_name}.')\n",
    "\n",
    "    # Copy initial ensemble model.\n",
    "    ensemble = deepcopy(ensemble_init)\n",
    "\n",
    "    # Create array of missing labels as initial labels.\n",
    "    y = np.full_like(y_train, fill_value=MISSING_LABEL, dtype=np.int64)\n",
    "    X = X_train\n",
    "\n",
    "    # Label one sample from each class for warm start. No warm start\n",
    "    # for i in range(2):\n",
    "    #     y[np.argwhere(y_train==i)[0]] = i\n",
    "\n",
    "    # Execute active learning cycle.\n",
    "    for c in tqdm(range(n_cycles)):\n",
    "        # Fit and evaluate ensemble.\n",
    "        ensemble.fit(X, y) # base model\n",
    "        test_acc = ensemble.score(X_test, y_test)\n",
    "        test_acc_dict[qs_name][c] = test_acc\n",
    "        train_acc = ensemble.score(X_train, y_train)\n",
    "        train_acc_dict[qs_name][c] = train_acc\n",
    "\n",
    "        # ulbd_indices = np.random.choice(unlabeled_indices(y, MISSING_LABEL), n_sub_set)\n",
    "\n",
    "        # Select and update training data.\n",
    "        query_idx = call_func(\n",
    "            qs.query,\n",
    "            X=X,\n",
    "            y=y,\n",
    "            clf=ensemble,\n",
    "            fit_clf=False,\n",
    "            ensemble=ensemble,\n",
    "            fit_ensemble=False,\n",
    "            batch_size=batch_size,\n",
    "        )\n",
    "        # query_idx = ulbd_indices[query_idx]\n",
    "        y[query_idx] = y_train[query_idx]\n",
    "\n",
    "    # Fit and evaluate ensemble after queries.\n",
    "    ensemble.fit(X, y)\n",
    "    test_acc = ensemble.score(X_test, y_test)\n",
    "    test_acc_dict[qs_name][c] = test_acc\n",
    "    train_acc = ensemble.score(X_train, y_train)\n",
    "    train_acc_dict[qs_name][c] = train_acc\n",
    "        \n",
    "    # Plot decision boundary\n",
    "    x_min, x_max = -1, 1\n",
    "    y_min, y_max = -1, 1\n",
    "\n",
    "    # Create a grid of points\n",
    "    x1 = np.linspace(x_min, x_max, 100)\n",
    "    x2 = np.linspace(y_min, y_max, 100)\n",
    "    x1, x2 = np.meshgrid(x1, x2)\n",
    "    Xtest = np.c_[x1.ravel(), x2.ravel()]\n",
    "    Xtest = np.append(Xtest, np.ones((Xtest.shape[0], 1)), axis=1)  # Add the bias term\n",
    "    Xtest = Xtest.astype(np.float32)\n",
    "    # print(len(Xtest))\n",
    "    yest = ensemble.predict(Xtest)\n",
    "    # print(len(yest))\n",
    "    yest = yest.reshape(x1.shape)\n",
    "\n",
    "    # Create subplots\n",
    "    fig, ax = plt.subplots(figsize=(7, 7))\n",
    "\n",
    "    # Define the custom colors\n",
    "    colors = ['#920783', '#00b7c7']  # Switched the colors to match the image\n",
    "    cmap = mcolors.ListedColormap(colors)\n",
    "\n",
    "    # Plot the decision boundary with custom colors\n",
    "    ax.contourf(x1, x2, yest, alpha=0.3, cmap=cmap)\n",
    "    scatter = ax.scatter(X_train[:, 0], X_train[:, 1], c=y_train, edgecolor='k', s=20, cmap=cmap)\n",
    "\n",
    "    ax.set_xlabel('x1')\n",
    "    ax.set_ylabel('x2')\n",
    "    ax.set_xlim(x_min, x_max)\n",
    "    ax.set_ylim(y_min, y_max)\n",
    "\n",
    "    plt.show()            "
   ]
  },
  {
   "cell_type": "code",
   "execution_count": null,
   "id": "49a05724-aad4-461c-be94-1d60f0131bcb",
   "metadata": {},
   "outputs": [],
   "source": [
    "# visualize test accuracy\n",
    "cycles = np.arange(n_cycles+1, dtype=int)\n",
    "plt.figure(figsize=(16, 9))\n",
    "for qs_name, acc in test_acc_dict.items():\n",
    "    plt.plot(cycles, acc, label=f'{qs_name}: AULC={round(acc.mean(), 2)}')\n",
    "plt.xticks(cycles, fontsize=FONTSIZE)\n",
    "plt.yticks(fontsize=FONTSIZE)\n",
    "plt.xlabel('# cycle', fontsize=FONTSIZE)\n",
    "plt.ylabel('test accuracy', fontsize=FONTSIZE)\n",
    "plt.legend(loc='lower right', fontsize='x-large')\n",
    "plt.show()"
   ]
  },
  {
   "cell_type": "code",
   "execution_count": null,
   "id": "407c6831-c6c1-4001-a1be-8a88cdbe3500",
   "metadata": {},
   "outputs": [],
   "source": [
    "# visualize test accuracy\n",
    "cycles = np.arange(n_cycles+1, dtype=int)\n",
    "plt.figure(figsize=(16, 9))\n",
    "for qs_name, acc in train_acc_dict.items():\n",
    "    plt.plot(cycles, acc, label=f'{qs_name}: AULC={round(acc.mean(), 2)}')\n",
    "plt.xticks(cycles, fontsize=FONTSIZE)\n",
    "plt.yticks(fontsize=FONTSIZE)\n",
    "plt.xlabel('# cycle', fontsize=FONTSIZE)\n",
    "plt.ylabel('train accuracy', fontsize=FONTSIZE)\n",
    "plt.legend(loc='lower right', fontsize='x-large')\n",
    "plt.show()"
   ]
  },
  {
   "cell_type": "markdown",
   "id": "c4d8b2c6-7a0d-4cf6-a4e3-4d594339c656",
   "metadata": {},
   "source": [
    "# 2. Regression"
   ]
  },
  {
   "cell_type": "code",
   "execution_count": null,
   "id": "e8eaa350-b562-45ee-99ea-133a5dbe8f6d",
   "metadata": {},
   "outputs": [],
   "source": [
    "# data generationn\n",
    "def generate_quadratic_regression(n = 100, n_train = 80, seed = 0, noise = False, noise_param = 0.05, plot = True):\n",
    "    x_vals = np.linspace(-1, 1, n)  # Generate n points uniformly spaced between -1 and 1\n",
    "    y_true = x_vals ** 2  # Calculate y = x^2\n",
    "    \n",
    "    # Add some noise to make it a more realistic regression problem\n",
    "    if noise:\n",
    "        noise = noise_param * np.random.randn(n)\n",
    "        y_vals = y_vals + noise\n",
    "    else:\n",
    "        y_vals = y_true\n",
    "    \n",
    "    # Plot the generated data\n",
    "    if plot:\n",
    "        plt.figure(figsize=(7, 7))\n",
    "        plt.scatter(x_vals, y_true, color='blue', label='Data Points')\n",
    "        plt.plot(x_vals, y_vals, color='black', label='True y = x^2', linewidth=2)\n",
    "        \n",
    "        plt.title('Continuous Quadratic Regression Dataset')\n",
    "        plt.xlabel('x')\n",
    "        plt.ylabel('y')\n",
    "        plt.legend()\n",
    "        plt.show()\n",
    "    else:\n",
    "        pass\n",
    "\n",
    "    # Adding bias to the data\n",
    "    X_all = np.column_stack((x_vals, np.ones(n)))  # Shape: (n, 2) where the second column is the bias term\n",
    "    y_all = y_vals # y_all is unchanged\n",
    "\n",
    "    # randomly select X,y\n",
    "    np.random.seed(seed)\n",
    "    \n",
    "    # Randomly select 80 indices\n",
    "    selected_indices = np.random.choice(np.arange(n), size=n_train, replace=False)\n",
    "    unselected_indices = np.setdiff1d(np.arange(n), selected_indices)\n",
    "    \n",
    "    # Select the corresponding rows from X and values from Y for train dataset\n",
    "    X = X_all[selected_indices]\n",
    "    y = y_all[selected_indices]\n",
    "    \n",
    "    # Test set\n",
    "    X_test = X_all[unselected_indices]\n",
    "    y_test = y_all[unselected_indices]\n",
    "\n",
    "    return X_all, y_all, X, y, X_test, y_test"
   ]
  },
  {
   "cell_type": "code",
   "execution_count": null,
   "id": "b3180b73-ed79-4d66-8294-9fc3e4df14c6",
   "metadata": {},
   "outputs": [],
   "source": [
    "X_all, y_all, X_train, y_train, X_test, y_test = generate_quadratic_regression(seed = RANDOM_STATE)"
   ]
  },
  {
   "cell_type": "code",
   "execution_count": null,
   "id": "d7573355-f00b-4fff-b747-ab13af2e33b0",
   "metadata": {},
   "outputs": [],
   "source": [
    "# Convert data to float32 as required by PyTorch\n",
    "X_all = X_all.astype(np.float32)\n",
    "y_all = y_all.astype(np.float32)\n",
    "X_train = X_train.astype(np.float32)\n",
    "X_test = X_test.astype(np.float32)\n",
    "y_train = y_train.astype(np.float32)\n",
    "y_test = y_test.astype(np.float32)"
   ]
  },
  {
   "cell_type": "code",
   "execution_count": null,
   "id": "e31a4856-b5dc-48f3-9041-5359e0572edc",
   "metadata": {},
   "outputs": [],
   "source": [
    "class ClassifierModule(nn.Module):\n",
    "    def __init__(self, n_classes=1):\n",
    "        super(ClassifierModule, self).__init__()\n",
    "        self.fc1 = nn.Linear(2, 160) \n",
    "        self.fc3 = nn.Linear(160, n_classes) \n",
    "\n",
    "    def forward(self, x):\n",
    "        x = F.relu(self.fc1(x))\n",
    "        x = F.dropout(x, training=self.training)  # Dropout applied only during training\n",
    "        x = self.fc3(x)\n",
    "        return x"
   ]
  },
  {
   "cell_type": "code",
   "execution_count": null,
   "id": "b47170b5-ab33-4edc-89d9-927bbba7a539",
   "metadata": {},
   "outputs": [],
   "source": [
    "from skorch import NeuralNetRegressor\n",
    "from sklearn.ensemble import (\n",
    "    GradientBoostingRegressor,\n",
    "    RandomForestRegressor,\n",
    "    VotingRegressor,\n",
    ")\n",
    "from skactiveml.regressor import SklearnRegressor, NICKernelRegressor\n",
    "from sklearn.linear_model import LinearRegression"
   ]
  },
  {
   "cell_type": "code",
   "execution_count": null,
   "id": "c78026b1-4ff8-48a6-8bc5-0b000573dbe2",
   "metadata": {},
   "outputs": [],
   "source": [
    "class SklearnRegressorFixed(SklearnRegressor):\n",
    "    def predict(self, X):\n",
    "        predictions = super().predict(X)\n",
    "        # Flatten the output if it's 2D (n_samples, 1) to (n_samples,)\n",
    "        if predictions.ndim > 1:\n",
    "            predictions = predictions.ravel()\n",
    "        return predictions"
   ]
  },
  {
   "cell_type": "code",
   "execution_count": null,
   "id": "9880998e-375e-4c03-8de7-1eb7e5aa00ce",
   "metadata": {},
   "outputs": [],
   "source": [
    "# create initial estimators\n",
    "estimators = []\n",
    "for i in range(5):\n",
    "    # Initialize the NeuralNetRegressor with skorch\n",
    "    net = NeuralNetRegressor(\n",
    "        ClassifierModule, \n",
    "        max_epochs=2000,\n",
    "        lr=0.001,\n",
    "        verbose=False,\n",
    "        optimizer=torch.optim.SGD,\n",
    "        optimizer__momentum=0.9,\n",
    "        optimizer__weight_decay=3e-3,\n",
    "        batch_size=16,\n",
    "        iterator_train__shuffle=True,  # Shuffle with the seed fixed\n",
    "        train_split=None  # Disable internal validation split\n",
    "    )\n",
    "\n",
    "    net.initialize()\n",
    "    reg = SklearnRegressorFixed( \n",
    "        estimator=net,\n",
    "        missing_label=MISSING_LABEL,\n",
    "        random_state=i,\n",
    "    )\n",
    "    estimators.append((f'reg {i}', reg))\n",
    "\n",
    "# Create voting ensemble out of the regressor estimators.\n",
    "# ensemble_init = VotingRegressor(estimators=estimators)\n",
    "\n",
    "ensemble_init = SklearnRegressor(\n",
    "    estimator=VotingRegressor(estimators=estimators),\n",
    "    missing_label=MISSING_LABEL,\n",
    "    random_state=RANDOM_STATE,\n",
    ")"
   ]
  },
  {
   "cell_type": "code",
   "execution_count": null,
   "id": "93458584-83e8-4137-a5d4-47ccb11cb8cf",
   "metadata": {},
   "outputs": [],
   "source": [
    "from sklearn.metrics import mean_squared_error"
   ]
  },
  {
   "cell_type": "code",
   "execution_count": null,
   "id": "e0e405ba-8a37-4b79-9b80-c770709d2764",
   "metadata": {},
   "outputs": [],
   "source": [
    "# Modified setup.\n",
    "n_cycles = 10\n",
    "batch_size = 1 # query 1 data point per step\n",
    "\n",
    "qs_dict = {\n",
    "        'greedyX': GreedySamplingX(random_state=RANDOM_STATE, missing_label=MISSING_LABEL),\n",
    "        'greedyTarget': GreedySamplingTarget(random_state=RANDOM_STATE, missing_label=MISSING_LABEL),\n",
    "        'qbc': QueryByCommittee(random_state=RANDOM_STATE, missing_label=MISSING_LABEL),\n",
    "        # 'kldiv': KLDivergenceMaximization(\n",
    "        #     random_state=RANDOM_STATE, missing_label=MISSING_LABEL,\n",
    "        #     integration_dict_target_val={\n",
    "        #         \"method\": \"assume_linear\",\n",
    "        #         \"n_integration_samples\": 3,\n",
    "        #     },\n",
    "        #     integration_dict_cross_entropy={\n",
    "        #         \"method\": \"assume_linear\",\n",
    "        #         \"n_integration_samples\": 3,\n",
    "        #     }\n",
    "        # )\n",
    "        'emc': ExpectedModelChangeMaximization(random_state=RANDOM_STATE, missing_label=MISSING_LABEL),\n",
    "  \n",
    "}\n",
    "\n",
    "test_acc_dict = {key: np.zeros(n_cycles+1) for key in qs_dict}\n",
    "train_acc_dict = {key: np.zeros(n_cycles+1) for key in qs_dict}\n",
    "\n",
    "# Perform active learning with each query strategy.\n",
    "for qs_name, qs in qs_dict.items():\n",
    "    torch.manual_seed(RANDOM_STATE)\n",
    "    torch.cuda.manual_seed(RANDOM_STATE)\n",
    "\n",
    "    print(f'Execute active learning using {qs_name}.')\n",
    "\n",
    "    # Copy initial ensemble model.\n",
    "    ensemble = deepcopy(ensemble_init)\n",
    "\n",
    "    y = np.full_like(y_train, fill_value=MISSING_LABEL, dtype=np.float32)\n",
    "    X = X_train\n",
    "    \n",
    "    X_selected = []\n",
    "    y_selected = []\n",
    "\n",
    "    # Execute active learning cycle.\n",
    "    for c in tqdm(range(n_cycles)):\n",
    "        # Fit and evaluate ensemble.\n",
    "        ensemble.fit(X, y) # base model\n",
    "        test_acc = mean_squared_error(y_test, ensemble.predict(X_test))\n",
    "        test_acc_dict[qs_name][c] = test_acc\n",
    "        train_acc = mean_squared_error(y_train, ensemble.predict(X_train))\n",
    "        train_acc_dict[qs_name][c] = train_acc\n",
    "\n",
    "        # Select and update training data.\n",
    "        query_idx = call_func(\n",
    "            qs.query,\n",
    "            X=X,\n",
    "            y=y,\n",
    "            reg=ensemble,\n",
    "            fit_reg=False,\n",
    "            ensemble=ensemble,\n",
    "            fit_ensemble=False,\n",
    "            batch_size=batch_size,\n",
    "        )\n",
    "        \n",
    "        query_idx = query_idx[0]\n",
    "        y[query_idx] = y_train[query_idx]\n",
    "        xs = X_train[query_idx]\n",
    "        X_selected.append(xs[0])\n",
    "        # print(X_selected)\n",
    "        y_selected.append(y_train[query_idx])\n",
    "\n",
    "    # Fit and evaluate ensemble.\n",
    "    ensemble.fit(X,y)\n",
    "    test_acc = mean_squared_error(y_test, ensemble.predict(X_test))\n",
    "    test_acc_dict[qs_name][c] = test_acc\n",
    "    train_acc = mean_squared_error(y_train, ensemble.predict(X_train))\n",
    "    train_acc_dict[qs_name][c] = train_acc\n",
    "    \n",
    "    # prediction\n",
    "    y_pred = ensemble.predict(X_all)\n",
    "        \n",
    "    # Plot the predictions\n",
    "    plt.figure(figsize=(10, 6))\n",
    "    plt.plot(X_all[:,:-1].ravel(), y_all, 'k-', label='True y = x^2')\n",
    "    plt.scatter(X_selected, y_selected, color='blue', label=f'Queried Points ({qs_name})', s=50)\n",
    "    # plot test points\n",
    "    plt.scatter(X_test[:,:-1].ravel(), y_test, color='red', label='Test Data', alpha=0.5, marker='x')\n",
    "    plt.plot(X_all[:,:-1].ravel(), y_pred, label=f'Prediction ({qs_name})', linewidth=2)\n",
    "    #plt.fill_between(X_all[:,:-1].ravel(), y_pred - 1.96 * y_std, y_pred + 1.96 * y_std, color='lightblue', alpha=0.3, label='95% Confidence Interval')\n",
    "    plt.title(f'Active Learning ({qs_name})')\n",
    "    plt.xlabel('x')\n",
    "    plt.ylabel('y')\n",
    "    plt.legend()\n",
    "    plt.savefig(f'{qs_name}.pdf', bbox_inches='tight')\n",
    "    plt.show()"
   ]
  },
  {
   "cell_type": "code",
   "execution_count": null,
   "id": "2d6713f8-1402-4c3d-992a-fc9c75de22e3",
   "metadata": {},
   "outputs": [],
   "source": []
  }
 ],
 "metadata": {
  "kernelspec": {
   "display_name": "Python 3 (ipykernel)",
   "language": "python",
   "name": "python3"
  },
  "language_info": {
   "codemirror_mode": {
    "name": "ipython",
    "version": 3
   },
   "file_extension": ".py",
   "mimetype": "text/x-python",
   "name": "python",
   "nbconvert_exporter": "python",
   "pygments_lexer": "ipython3",
   "version": "3.9.7"
  }
 },
 "nbformat": 4,
 "nbformat_minor": 5
}
