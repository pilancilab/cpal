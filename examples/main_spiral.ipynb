{
 "cells": [
  {
   "cell_type": "code",
   "execution_count": 1,
   "id": "4023ef89-55dd-445a-af5e-c98d431de495",
   "metadata": {},
   "outputs": [],
   "source": [
    "import numpy as np\n",
    "import numpy.linalg as la\n",
    "import cvxpy as cp\n",
    "import matplotlib.pyplot as plt\n",
    "import math\n",
    "import random\n",
    "import time\n",
    "import mosek\n",
    "\n",
    "import warnings\n",
    "warnings.filterwarnings('ignore')\n",
    "\n",
    "seed=0\n",
    "random.seed(a=seed)\n",
    "np.random.seed(seed=seed)\n",
    "\n",
    "def relu(x):\n",
    "    return np.maximum(0,x)\n",
    "def drelu(x):\n",
    "    return x>=0"
   ]
  },
  {
   "cell_type": "code",
   "execution_count": 2,
   "id": "d71b138b",
   "metadata": {},
   "outputs": [],
   "source": [
    "import sys\n",
    "sys.path.append('..')\n",
    "from src.cpal.synthetic_data import *"
   ]
  },
  {
   "cell_type": "code",
   "execution_count": 3,
   "id": "4ea972b8-1169-4395-9233-2c55b0595975",
   "metadata": {},
   "outputs": [],
   "source": [
    "import matplotlib.colors as mcolors"
   ]
  },
  {
   "cell_type": "code",
   "execution_count": 4,
   "id": "cea6e94f-1e3a-45c3-9ee3-ce429665d7f7",
   "metadata": {},
   "outputs": [],
   "source": [
    "RANDOM_STATE = 0"
   ]
  },
  {
   "cell_type": "markdown",
   "id": "81fb91e6-9411-4c6f-a036-2db1e9d298d0",
   "metadata": {},
   "source": [
    "### 1. Data Generation"
   ]
  },
  {
   "cell_type": "code",
   "execution_count": 5,
   "id": "bb6ce8d5-b757-4ba9-9471-190b52eb2a25",
   "metadata": {},
   "outputs": [],
   "source": [
    "# def spiral_xy(i, total_points, spiral_num, n_shape = 50):\n",
    "#     \"\"\"\n",
    "#     Create the data for a normalized spiral.\n",
    "\n",
    "#     Arguments:\n",
    "#         i runs from 0 to total_points-1.\n",
    "#         total_points is the total number of points in the spiral.\n",
    "#         spiral_num is 1 or -1.\n",
    "#         n_shape is an int which determines the shape of spiral wrt function, unscaled_spiral_xy.\n",
    "#     \"\"\"\n",
    "#     # Normalize i to always fit in the range [0, 96], which is the original range.\n",
    "#     i_normalized = i * n_shape / (total_points - 1)\n",
    "#     φ = i_normalized / 16 * math.pi\n",
    "#     r = 6.5 * ((104 - i_normalized) / 104)\n",
    "#     x = (r * math.cos(φ) * spiral_num) / 13 + 0.5\n",
    "#     y = (r * math.sin(φ) * spiral_num) / 13 + 0.5  # spiral_num mirrors the orientation of the spiral\n",
    "#     return (x, y)\n",
    "\n",
    "\n",
    "# def spiral(spiral_num, n=100, n_shape = 50):\n",
    "#     \"\"\"\n",
    "#     Generate either a clockwise (+1) spiral or a counter clockwise (-1) spiral for a total of n points.\n",
    "\n",
    "#     Arguments:\n",
    "#         spiral_num: 1 or -1 determines the orientation of the spiral.\n",
    "#         n: total number of points in a spiral.\n",
    "#     \"\"\"\n",
    "#     return [spiral_xy(i, n, spiral_num, n_shape) for i in range(n//2)]\n",
    "\n",
    "\n",
    "# def generate_spiral_data(n=100, n_train = 80, n_shape = 50, seed = RANDOM_STATE, default_label = True):\n",
    "#     \"\"\"\n",
    "#     Generate binary spiral classification data.\n",
    "\n",
    "#     Arguments:\n",
    "#         n: total number of points in a spiral.\n",
    "#         n_train: numbr of training points.\n",
    "#         seed: permutation randomization seed.\n",
    "#         default_label: True uses label +/-1 and False uses label 0/1\n",
    "#     \"\"\"\n",
    "#     a = spiral(1,n,n_shape)\n",
    "#     b = spiral(-1,n,n_shape)\n",
    "#     # Combine spiral from both orientation as one and scaling feature space from (0,1)^2 to (-1,1)^2\n",
    "#     X_all=2*np.concatenate((a,b),axis=0)-1 \n",
    "#     X_all=np.append(X_all,np.ones((n,1)),axis=1) # Adding bias to the feature space\n",
    "#     # concatenate the labels of the spiral, which is their orientation (+1/-1)\n",
    "#     if default_label:\n",
    "#         y_all=np.concatenate((np.ones(n//2),-np.ones(n//2))) \n",
    "#     else:\n",
    "#         y_all=np.concatenate((np.ones(n//2),np.zeros(n//2))) # reset -1 to 0.\n",
    "#     # randomize data indices\n",
    "#     np.random.seed(seed)\n",
    "#     idx = np.random.permutation(n)\n",
    "#     X_all = X_all[idx]\n",
    "#     y_all = y_all[idx]\n",
    "#     # Split into training and testing sets\n",
    "#     X_train, y_train = X_all[:n_train], y_all[:n_train]\n",
    "#     X_test, y_test = X_all[n_train:], y_all[n_train:]\n",
    "    \n",
    "#     return X_all, y_all, X_train, y_train, X_test, y_test\n"
   ]
  },
  {
   "cell_type": "code",
   "execution_count": 6,
   "id": "953f39ea-1dd7-4467-8885-e74874a69c30",
   "metadata": {},
   "outputs": [],
   "source": [
    "X_all, y_all, X, y, Xacc, yacc = generate_spiral_data()"
   ]
  },
  {
   "cell_type": "code",
   "execution_count": 7,
   "id": "d6ecef73",
   "metadata": {},
   "outputs": [
    {
     "data": {
      "text/plain": [
       "(80, 3)"
      ]
     },
     "execution_count": 7,
     "metadata": {},
     "output_type": "execute_result"
    }
   ],
   "source": [
    "X.shape"
   ]
  },
  {
   "cell_type": "markdown",
   "id": "6c9faa39-a92e-43ba-9dc4-114061874fe2",
   "metadata": {},
   "source": [
    "### 2. Hyperplane partitions sampling"
   ]
  },
  {
   "cell_type": "code",
   "execution_count": 8,
   "id": "d4f49433-f5d4-4337-b6ed-77d5329116b2",
   "metadata": {},
   "outputs": [],
   "source": [
    "beta=1e-5\n",
    "P=1000\n",
    "n = 80\n",
    "d = 3\n",
    "np.random.seed(RANDOM_STATE)\n",
    "dmat=np.empty((n,0))\n",
    "\n",
    "## Finite approximation of all possible sign patterns\n",
    "for i in range(P):\n",
    "    u=np.random.randn(d,1)\n",
    "    dmat=np.append(dmat,drelu(np.dot(X,u)),axis=1)\n",
    "\n",
    "dmat=(np.unique(dmat,axis=1))"
   ]
  },
  {
   "cell_type": "code",
   "execution_count": 9,
   "id": "bb19092d-6e68-4859-b2b2-529629d00d61",
   "metadata": {},
   "outputs": [
    {
     "data": {
      "text/plain": [
       "(80, 623)"
      ]
     },
     "execution_count": 9,
     "metadata": {},
     "output_type": "execute_result"
    }
   ],
   "source": [
    "dmat.shape"
   ]
  },
  {
   "cell_type": "markdown",
   "id": "094d90de-7578-4f0e-bf35-99d6368caa19",
   "metadata": {},
   "source": [
    "### 3. Convex solver for exact convex program reformulation of two-layer ReLU NN"
   ]
  },
  {
   "cell_type": "code",
   "execution_count": 10,
   "id": "95c48e53-bec4-4ddd-99ab-4047bc00e8ab",
   "metadata": {},
   "outputs": [
    {
     "name": "stdout",
     "output_type": "stream",
     "text": [
      "2-layer convex program objective value:  0.0008144290287536936\n"
     ]
    }
   ],
   "source": [
    "# Optimal CVX\n",
    "m=dmat.shape[1]\n",
    "Uopt1=cp.Variable((d,m)) # c_i in paper\n",
    "Uopt2=cp.Variable((d,m)) # c_i' in paper\n",
    "\n",
    "## Below we use hinge loss as a performance metric for binary classification\n",
    "yopt1=cp.Parameter((n,1))\n",
    "yopt2=cp.Parameter((n,1))\n",
    "yopt1=cp.sum(cp.multiply(dmat,(X*Uopt1)),axis=1)\n",
    "yopt2=cp.sum(cp.multiply(dmat,(X*Uopt2)),axis=1)\n",
    "#cost=cp.sum(cp.pos(1-cp.multiply(y,yopt1-yopt2)))/n+beta*(cp.mixed_norm(Uopt1.T,2,1)+cp.mixed_norm(Uopt2.T,2,1))\n",
    "cost=cp.sum_squares(y-(yopt1-yopt2))/(2*n)+beta*(cp.mixed_norm(Uopt1.T,2,1)+cp.mixed_norm(Uopt2.T,2,1))\n",
    "\n",
    "constraints=[]\n",
    "constraints+=[cp.multiply((2*dmat-np.ones((n,m))),(X*Uopt1))>=0]\n",
    "constraints+=[cp.multiply((2*dmat-np.ones((n,m))),(X*Uopt2))>=0]\n",
    "prob=cp.Problem(cp.Minimize(cost),constraints)\n",
    "prob.solve(solver=cp.CLARABEL,warm_start=True)\n",
    "cvx_opt=prob.value\n",
    "if prob.status != \"optimal\":\n",
    "    print(\"Convex: Status convex: \",prob.status)\n",
    "print(\"2-layer convex program objective value: \",cvx_opt)"
   ]
  },
  {
   "cell_type": "markdown",
   "id": "2cf1adf1-a1e3-4b88-921f-f50028195861",
   "metadata": {},
   "source": [
    "### 4. Comparison of Convex Solver with SGD"
   ]
  },
  {
   "cell_type": "code",
   "execution_count": 11,
   "id": "abbbcba2-5244-47bd-8d1f-d3ca34b9e296",
   "metadata": {},
   "outputs": [
    {
     "name": "stdout",
     "output_type": "stream",
     "text": [
      "Number of neurons: 623\n"
     ]
    },
    {
     "data": {
      "image/png": "[encoded data removed]",
      "text/plain": [
       "<Figure size 640x480 with 1 Axes>"
      ]
     },
     "metadata": {},
     "output_type": "display_data"
    }
   ],
   "source": [
    "# BP\n",
    "sigma=1e-2\n",
    "mu=0.5\n",
    "print(\"Number of neurons:\",m)\n",
    "mbp=2*m\n",
    "ITERS=15000\n",
    "U=sigma*np.random.randn(d,mbp)\n",
    "w=sigma*np.random.randn(mbp,1)\n",
    "yall=y.reshape(-1,1)\n",
    "obj_bp=np.empty((ITERS,1))\n",
    "batch_size=n\n",
    "nb=batch_size\n",
    "for i in range(ITERS):\n",
    "    if i%8000 == 0 and i>0:\n",
    "        mu=mu/5\n",
    "    samp=np.random.choice(n,batch_size)\n",
    "    Xgd=X[samp,:]\n",
    "    ygd=yall[samp,:]\n",
    "    a1=np.dot(Xgd,U)\n",
    "    yest=np.dot(relu(a1),w)\n",
    "    yest_all=np.dot(relu(np.dot(X,U)),w)\n",
    "    obj_bp[i]=np.linalg.norm(yall-yest_all)**2/(2*n)+(beta/2)*(np.linalg.norm(U,'fro')**2+np.linalg.norm(w,'fro')**2)\n",
    "    gradw= relu(a1).T@(yest-ygd)/nb\n",
    "    gradU=np.zeros((d,mbp))\n",
    "\n",
    "    gradU=Xgd.T@(drelu(a1)*((yest-ygd)@w.T))/nb\n",
    "\n",
    "    U=(1-mu*beta)*U-mu*gradU\n",
    "    w=(1-mu*beta)*w-mu*gradw\n",
    "\n",
    "\n",
    "# Plot\n",
    "plt.figure(0)\n",
    "plt.semilogy(obj_bp,label='GD')\n",
    "plt.axhline(cvx_opt,color='k',label='Optimal')\n",
    "plt.ylabel('Objective value')\n",
    "plt.xlabel('Iteration')\n",
    "plt.savefig('bp_vs_cvx.pdf', bbox_inches='tight')\n",
    "\n",
    "plt.legend();"
   ]
  },
  {
   "cell_type": "code",
   "execution_count": 15,
   "id": "356caf90-8f66-4ef4-bb27-a56ecc5e6e33",
   "metadata": {},
   "outputs": [],
   "source": [
    "### 4 (a). Plotting Decision boundaries: cvx (left); sgd (right)."
   ]
  },
  {
   "cell_type": "code",
   "execution_count": 12,
   "id": "b72614d6-ccbc-479a-9e57-57ba027b68c6",
   "metadata": {},
   "outputs": [
    {
     "data": {
      "image/png": "[encoded data removed]",
      "text/plain": [
       "<Figure size 700x300 with 2 Axes>"
      ]
     },
     "metadata": {},
     "output_type": "display_data"
    }
   ],
   "source": [
    "samp=100\n",
    "x1=np.linspace(-1,1,samp).reshape(-1,1)\n",
    "x2=np.linspace(-1,1,samp).reshape(-1,1)\n",
    "\n",
    "Xtest=np.ones((samp**2,d))\n",
    "count=0\n",
    "for i in range(samp):\n",
    "    for j in range(samp):\n",
    "        Xtest[count]=[x1[i, 0],x2[j, 0],1]\n",
    "        count+=1\n",
    "\n",
    "ntest=Xtest.shape[0]\n",
    "\n",
    "Uopt1v=Uopt1.value\n",
    "Uopt2v=Uopt2.value\n",
    "\n",
    "yest_cvx=np.sum(drelu(Xtest@Uopt1v)*(Xtest@Uopt1v)-drelu(Xtest@Uopt2v)*(Xtest@Uopt2v),axis=1)\n",
    "yest_bp=np.dot(relu(np.dot(Xtest,U)),w)\n",
    "\n",
    "\n",
    "pos_cvx=np.where(np.sign(yest_cvx)==1)\n",
    "neg_cvx=np.where(np.sign(yest_cvx)==-1)\n",
    "pos_bp=np.where(np.sign(yest_bp)==1)\n",
    "neg_bp=np.where(np.sign(yest_bp)==-1)\n",
    "pos=np.where(y==1)\n",
    "neg=np.where(y==-1)\n",
    "pos_test=np.where(yacc==1)\n",
    "neg_test=np.where(yacc==-1)\n",
    "\n",
    "\n",
    "def plot_result(pos1, neg1, pos2, neg2, name):\n",
    "\n",
    "    def mix_with_white(color, alpha):\n",
    "        white = np.array([1, 1, 1])\n",
    "        return (1 - alpha) * white + alpha * np.array(color)\n",
    "\n",
    "    # Define the original colors\n",
    "    cyan = [0, 1, 1]\n",
    "    magenta = [1, 0, 1]\n",
    "\n",
    "    # Mix the colors with white\n",
    "    cyan_mixed = mix_with_white(cyan, 0.3)\n",
    "    magenta_mixed = mix_with_white(magenta, 0.3)\n",
    "\n",
    "    fig, (ax1, ax2) = plt.subplots(1, 2, figsize=(7, 3))\n",
    "\n",
    "    ax1.plot(Xtest[pos1,0],Xtest[pos1,1],'o', label = 'Train data', color=cyan_mixed);\n",
    "    ax1.plot(Xtest[neg1,0],Xtest[neg1,1],'o', label = 'Test data', color=magenta_mixed);\n",
    "    ax1.plot(X[pos,0],X[pos,1],'cx');\n",
    "    ax1.plot(X[neg,0],X[neg,1],'mx');\n",
    "    ax1.plot(Xacc[pos_test,0],Xacc[pos_test,1],'cx',marker ='^');\n",
    "    ax1.plot(Xacc[neg_test,0],Xacc[neg_test,1],'mx',marker ='^');\n",
    "        \n",
    "\n",
    "    ax2.set_yticklabels([])\n",
    "\n",
    "    ax2.plot(Xtest[pos2,0],Xtest[pos2,1],'o', color=cyan_mixed);\n",
    "    ax2.plot(Xtest[neg2,0],Xtest[neg2,1],'o', color=magenta_mixed);\n",
    "    ax2.plot(X[pos,0],X[pos,1],'cx');\n",
    "    ax2.plot(X[neg,0],X[neg,1],'mx');\n",
    "    ax2.plot(Xacc[pos_test,0],Xacc[pos_test,1],'cx',marker ='^');\n",
    "    ax2.plot(Xacc[neg_test,0],Xacc[neg_test,1],'mx',marker ='^');\n",
    "    \n",
    "    plt.legend()\n",
    "\n",
    "    #plt.savefig(f'{name}.pdf', bbox_inches='tight')\n",
    "\n",
    "\n",
    "plot_result(pos_cvx, neg_cvx, pos_bp, neg_bp, 'full_data')"
   ]
  },
  {
   "cell_type": "code",
   "execution_count": 17,
   "id": "e6c08576-49ae-4262-ae12-1dec6fc6096e",
   "metadata": {},
   "outputs": [],
   "source": [
    "# Another way of plotting decision boundary of cvx"
   ]
  },
  {
   "cell_type": "code",
   "execution_count": 13,
   "id": "61f966ad-60c5-4398-ae1b-f3b6cf398b5c",
   "metadata": {},
   "outputs": [],
   "source": [
    "def plot_decision_boundary(X, y, X_test, y_test, Uopt1v, Uopt2v, selected_indices, name):\n",
    "    # Define the grid range based on the data range\n",
    "    x_min, x_max = -1.5, 1.5 # 1.5\n",
    "    y_min, y_max = -1.5, 1.5\n",
    "\n",
    "    # Create a grid of points\n",
    "    x1 = np.linspace(x_min, x_max, 100)\n",
    "    x2 = np.linspace(y_min, y_max, 100)\n",
    "    x1, x2 = np.meshgrid(x1, x2)\n",
    "    Xtest = np.c_[x1.ravel(), x2.ravel()]\n",
    "    Xtest = np.append(Xtest, np.ones((Xtest.shape[0], 1)), axis=1)  # Add the bias term\n",
    "    \n",
    "    yest_cvx=np.sum(drelu(Xtest@Uopt1v)*(Xtest@Uopt1v)-drelu(Xtest@Uopt2v)*(Xtest@Uopt2v),axis=1)\n",
    "    yest_cvx = yest_cvx.reshape(x1.shape)\n",
    "    \n",
    "    # Map labels back to -1 and 1 for visualization\n",
    "    y_train_mapped = np.where(y == 1, 1, -1)\n",
    "    y_test_mapped = np.where(y_test == 1, 1, -1)\n",
    "    \n",
    "    X_selected = X[selected_indices]\n",
    "    y_selected = y_train_mapped[selected_indices]\n",
    "\n",
    "    # Create subplots\n",
    "    fig, ax = plt.subplots(figsize=(7, 7))\n",
    "\n",
    "    # Define the custom colors\n",
    "    colors = ['#920783', '#00b7c7']  # Switched the colors to match the image\n",
    "    cmap = mcolors.ListedColormap(colors)\n",
    "\n",
    "    # Plot the decision boundary with custom colors\n",
    "    ax.contourf(x1, x2, yest_cvx, alpha=0.3, cmap=cmap)\n",
    "    scatter_train = ax.scatter(X[:, 0], X[:, 1], c=y_train_mapped, edgecolor='k', s=20, cmap=cmap,\n",
    "                               label='Train Data')\n",
    "    scatter_test = ax.scatter(X_test[:, 0], X_test[:, 1], c=y_test_mapped, edgecolor='k', s=20, cmap=cmap,\n",
    "                              marker='^', label = 'Test Data')\n",
    "    scatter_select = ax.scatter(X_selected[:,0], X_selected[:,1], c=y_selected, s=80, cmap=cmap, marker='x',\n",
    "                               label='Queried Data')\n",
    "    \n",
    "    ax.set_xlabel('x1')\n",
    "    ax.set_ylabel('x2')\n",
    "    ax.set_xlim(x_min, x_max)\n",
    "    ax.set_ylim(y_min, y_max)\n",
    "    ax.set_title(f'{name}')\n",
    "    plt.legend()\n",
    "    #plt.savefig(f'{name}.pdf', bbox_inches='tight')\n",
    "    plt.show()"
   ]
  },
  {
   "cell_type": "code",
   "execution_count": 14,
   "id": "bf9049e0-bfaa-4c8a-bede-eca9a7b7ba1d",
   "metadata": {},
   "outputs": [
    {
     "data": {
      "image/png": "[encoded data removed]",
      "text/plain": [
       "<Figure size 700x700 with 1 Axes>"
      ]
     },
     "metadata": {},
     "output_type": "display_data"
    }
   ],
   "source": [
    "plot_decision_boundary(X, y, Xacc, yacc, Uopt1v, Uopt2v, [1], 'full')"
   ]
  },
  {
   "cell_type": "code",
   "execution_count": 20,
   "id": "913f3273-4953-4685-929d-c5bddd5e56b6",
   "metadata": {},
   "outputs": [],
   "source": [
    "# Accuracy rate"
   ]
  },
  {
   "cell_type": "code",
   "execution_count": 15,
   "id": "e07fe43f-216b-4c21-89cc-83902cc8af9c",
   "metadata": {},
   "outputs": [
    {
     "name": "stdout",
     "output_type": "stream",
     "text": [
      "accuracy cvx: 1.0, accuracy bp: 1.0\n"
     ]
    }
   ],
   "source": [
    "yacc_cvx = np.sign(np.sum(drelu(Xacc@Uopt1v)*(Xacc@Uopt1v)-drelu(Xacc@Uopt2v)*(Xacc@Uopt2v),axis=1))\n",
    "yacc_bp = np.sign(np.dot(relu(np.dot(Xacc,U)),w))\n",
    "\n",
    "acc_cvx = np.sum(yacc_cvx == yacc) / len(yacc)\n",
    "acc_bp = np.sum(yacc_bp.flatten() == yacc) / len(yacc)\n",
    "\n",
    "print(f'accuracy cvx: {acc_cvx}, accuracy bp: {acc_bp}')"
   ]
  },
  {
   "cell_type": "markdown",
   "id": "a43df995-fe6f-449b-b4b7-92ef7b4b0824",
   "metadata": {},
   "source": [
    "### 5. Cutting-plane AL via a Two-layer ReLU NN"
   ]
  },
  {
   "cell_type": "code",
   "execution_count": 16,
   "id": "adad2f8f-187c-4eab-a8a3-901b247b271c",
   "metadata": {},
   "outputs": [],
   "source": [
    "N = len(y)"
   ]
  },
  {
   "cell_type": "code",
   "execution_count": 17,
   "id": "6b2d5c33-cb60-477e-beb9-6067ec58a75a",
   "metadata": {},
   "outputs": [],
   "source": [
    "def sign(a):\n",
    "    return 2 * int(a >= 0) - 1"
   ]
  },
  {
   "cell_type": "code",
   "execution_count": 18,
   "id": "eb7a66c7-b92c-4dc6-931c-dcfb074b3b4b",
   "metadata": {},
   "outputs": [],
   "source": [
    "# compute analytic center\n",
    "def center(S, R=1, boxinit=False, reg=False, reg_value=2e-4):\n",
    "    \"\"\"S is list of affine inequalities described as tuple of LHS vector/matrix and RHS scalar/vector\"\"\"\n",
    "    s = cp.Variable(2*d*m)\n",
    "    obj = 0 if boxinit else cp.log(R - cp.norm(s))\n",
    "    constraints = []\n",
    "    if reg:\n",
    "        U = cp.reshape(s, (2*d, m), order='F')\n",
    "        #obj += cp.log(reg_value - beta*(cp.mixed_norm(U[:d].T,2,1)+cp.mixed_norm(U[d:].T,2,1)))\n",
    "        constraints = [beta*(cp.mixed_norm(U[:d].T,2,1)+cp.mixed_norm(U[d:].T,2,1)) <= reg_value]\n",
    "    if len(S) > 0:\n",
    "        obj += cp.sum([cp.log(rhs - lhs @ s) for lhs, rhs in S])\n",
    "    prob = cp.Problem(cp.Maximize(obj), constraints)\n",
    "    prob.solve(solver=cp.MOSEK)\n",
    "    return s.value"
   ]
  },
  {
   "cell_type": "code",
   "execution_count": 19,
   "id": "063ba43a-81d8-43d9-8fd1-cfdb057838c9",
   "metadata": {},
   "outputs": [],
   "source": [
    "# cut set\n",
    "def cut(S, x, y, dmat_row):\n",
    "    m = len(dmat_row)\n",
    "    # f = cp.sum(cp.multiply(dmat, X*(Uopt1 - Uopt2)), axis=1)\n",
    "    # f_i = dmat[i, 0] * X[i, :] [I - I] var[:, 0] + dmat[i, 1] * X[i, :] [I - I] var[:, 1] + ...  where var = [Uopt1; Uopt2]\n",
    "    # f_i = dmat[i, :] @ [X[i, :] [I - I] var[:, 0]; X[i, :] [I - I] var[:, 1]; ...]\n",
    "    S.append((-y * dmat_row @ np.kron(np.eye(m), np.concatenate((x, -x)).T), 0))\n",
    "\n",
    "    relu_constraint = -np.kron(np.diag(2*dmat_row-np.ones(m)), np.kron(np.eye(2), x))\n",
    "    for lhs in relu_constraint:\n",
    "        S.append((lhs, 0))\n",
    "    # potentially remove redundant constraints here"
   ]
  },
  {
   "cell_type": "code",
   "execution_count": 20,
   "id": "2071b586-c316-4a3f-b31d-af90c6a946fb",
   "metadata": {},
   "outputs": [],
   "source": [
    "def pred_point(i, U1v, U2v): # corresponds to <w(theta), x>\n",
    "    y1 = np.sum(np.multiply(dmat[i],(X[i][np.newaxis, :] @ U1v)),axis=1)\n",
    "    y2 = np.sum(np.multiply(dmat[i],(X[i][np.newaxis, :] @ U2v)),axis=1)\n",
    "    return y1 - y2\n",
    "\n",
    "def pred_point_simplified(i, U1v, U2v):\n",
    "    var = np.vstack((U1v, U2v)).flatten(order='F')\n",
    "    return (dmat[i] @ np.kron(np.eye(len(dmat[i])), np.concatenate((X[i], -X[i])).T)) @ var\n",
    "\n",
    "def pred_point_simplified_vec(i, vec):\n",
    "    return (dmat[i] @ np.kron(np.eye(len(dmat[i])), np.concatenate((X[i], -X[i])).T)) @ vec"
   ]
  },
  {
   "cell_type": "code",
   "execution_count": 21,
   "id": "e76dc7c1-8559-42bc-89a8-649cf5afc1d1",
   "metadata": {},
   "outputs": [],
   "source": [
    "def constraint(i, U1v, U2v):\n",
    "    return np.vstack((\n",
    "        np.multiply((2*dmat[i]-np.ones((1,m))),(X[i] @ U1v)),\n",
    "        np.multiply((2*dmat[i]-np.ones((1,m))),(X[i] @ U2v))\n",
    "    )).flatten(order='F')\n",
    "\n",
    "def constraint_simplified(i, U1v, U2v):\n",
    "    var = np.vstack((U1v, U2v)).flatten(order='F')\n",
    "    return np.kron(np.diag(2*dmat[i]-np.ones(m)), np.kron(np.eye(2), X[i])) @ var"
   ]
  },
  {
   "cell_type": "code",
   "execution_count": 22,
   "id": "46649b58-d3b5-4cee-8ffc-f33ef6eb0ef1",
   "metadata": {},
   "outputs": [],
   "source": [
    "def in_Ct(c, Ct, eps=1e-3):\n",
    "    for lhs, rhs in Ct:\n",
    "        if lhs @ c > rhs + eps:\n",
    "            return False\n",
    "    return True"
   ]
  },
  {
   "cell_type": "code",
   "execution_count": 23,
   "id": "95aa59fa-207d-42a3-8837-60bb90b02b1b",
   "metadata": {},
   "outputs": [],
   "source": [
    "def sample_lattice(S, R=1):\n",
    "    d = 3\n",
    "    l = cp.Variable(2*d*m)\n",
    "    d = np.random.randn(2*d*m)\n",
    "    obj = (d / np.linalg.norm(d)) @ l\n",
    "    prob = cp.Problem(cp.Maximize(obj), [cp.norm(l) <= R] + [lhs @ l <= rhs for lhs, rhs in S])\n",
    "    prob.solve(cp.MOSEK)\n",
    "    return l.value"
   ]
  },
  {
   "cell_type": "code",
   "execution_count": 24,
   "id": "fec4eb3d-b364-4b95-aed0-9af32f3a5d45",
   "metadata": {},
   "outputs": [],
   "source": [
    "R = 1\n",
    "\n",
    "C0_lower = -R*np.ones(2*d*m)\n",
    "C0_upper = R*np.ones(2*d*m)\n",
    "\n",
    "def sample_classifier(Ct, c, maxiter=10**5):\n",
    "    for _ in range(maxiter):\n",
    "        #candidate = np.random.uniform(C0_lower, C0_upper)\n",
    "        candidate = c + np.random.randn(*c.shape)\n",
    "        if in_Ct(candidate, Ct):\n",
    "            return candidate\n",
    "    print(f'Failed to sample after {maxiter} tries.')\n",
    "    return None"
   ]
  },
  {
   "cell_type": "code",
   "execution_count": 25,
   "id": "af53aa60-7c7c-4397-98f9-124e11008a5d",
   "metadata": {},
   "outputs": [],
   "source": [
    "def query(C, c, data_tried, data_used, M=100):\n",
    "\n",
    "    mini = np.inf\n",
    "    i_mini = -1\n",
    "\n",
    "    maxi = -np.inf\n",
    "    i_maxi = -1\n",
    "\n",
    "    minabs = np.inf\n",
    "    i_minabs = -1\n",
    "\n",
    "    #theta_s = np.zeros(2*d*m)\n",
    "    #for _ in range(M):\n",
    "    #    th = sample_classifier(C, c)\n",
    "    #    #th = sample_lattice(C)\n",
    "    #    if th is None:\n",
    "    #        return None, None, None\n",
    "    #    theta_s += (1/M) * th\n",
    "\n",
    "    #theta_matrix = np.reshape(c, (2*d, m), order='F')\n",
    "    #U1_query=theta_matrix[:d]\n",
    "    #U2_query=theta_matrix[d:]\n",
    "\n",
    "    for i in range(N): # search in finite data (D implicit) set to re-use dmat then\n",
    "        if i not in data_tried and i not in data_used:\n",
    "            pred = pred_point_simplified_vec(i, c)\n",
    "            if pred < mini:\n",
    "                i_mini = 1*i\n",
    "                mini = pred\n",
    "            if pred > maxi:\n",
    "                i_maxi = 1*i\n",
    "                maxi = pred\n",
    "            if abs(pred) < minabs:\n",
    "                i_minabs = 1*i\n",
    "                minabs = abs(pred)\n",
    "\n",
    "    return i_mini, i_maxi, i_minabs"
   ]
  },
  {
   "cell_type": "code",
   "execution_count": 26,
   "id": "2c61d42a-c4e2-47f8-8cc4-282518210798",
   "metadata": {},
   "outputs": [],
   "source": [
    "# final convex solve\n",
    "\n",
    "def convex_solve(used):\n",
    "\n",
    "    used_unique = list(set(used))\n",
    "\n",
    "    Uopt1_final=cp.Variable((d,m)) # c_i in paper\n",
    "    Uopt2_final=cp.Variable((d,m)) # c_i' in paper\n",
    "\n",
    "    yopt1_final=cp.sum(cp.multiply(dmat[used_unique],(X[used_unique]*Uopt1_final)),axis=1)\n",
    "    yopt2_final=cp.sum(cp.multiply(dmat[used_unique],(X[used_unique]*Uopt2_final)),axis=1)\n",
    "\n",
    "    cost=cp.sum_squares(y[used_unique]-(yopt1_final-yopt2_final))/(2*n)+beta*(cp.mixed_norm(Uopt1_final.T,2,1)+cp.mixed_norm(Uopt2_final.T,2,1))\n",
    "\n",
    "    constraints=[]\n",
    "    constraints+=[cp.multiply((2*dmat[used_unique]-np.ones((len(used_unique),m))),(X[used_unique]*Uopt1_final))>=0]\n",
    "    constraints+=[cp.multiply((2*dmat[used_unique]-np.ones((len(used_unique),m))),(X[used_unique]*Uopt2_final))>=0]\n",
    "    prob_final=cp.Problem(cp.Minimize(cost),constraints)\n",
    "    prob_final.solve(solver=cp.CLARABEL,warm_start=True)\n",
    "\n",
    "    return Uopt1_final.value, Uopt2_final.value, beta*(cp.mixed_norm(Uopt1_final.value.T,2,1)+cp.mixed_norm(Uopt2_final.value.T,2,1))"
   ]
  },
  {
   "cell_type": "code",
   "execution_count": null,
   "id": "51627406-b9af-4ae9-8ccb-9c26ed9f91e8",
   "metadata": {},
   "outputs": [],
   "source": [
    "# cutting plane method\n",
    "\n",
    "def cutting_plane(n_points=100, maxit=10000, boxinit=False):\n",
    "    \n",
    "    data_tried = []\n",
    "    data_used = []\n",
    "    \n",
    "    Ct = []\n",
    "    if boxinit:\n",
    "        for i, (l, u) in enumerate(zip(C0_lower, C0_upper)):\n",
    "            one_vec = np.zeros(2*d*m)\n",
    "            one_vec[i] = 1\n",
    "            Ct.append((one_vec, u))\n",
    "            Ct.append((-one_vec, -l))\n",
    "    \n",
    "    c = None\n",
    "    did_cut = True\n",
    "    it = 0\n",
    "    while len(data_used) < n_points and it < maxit: # TODO: replace by proper termination criterion\n",
    "        if len(data_tried) == N:\n",
    "            data_tried = []\n",
    "        if did_cut:\n",
    "            #if len(data_used) > 0:\n",
    "            #    _, _, reg_value = convex_solve(data_used)\n",
    "            #else:\n",
    "            #    reg_value = 1e-5\n",
    "            c = center(Ct, R=R)\n",
    "            did_cut = False\n",
    "        i_mini, i_maxi, i_minabs = query(Ct, c, data_tried, data_used)\n",
    "        if i_mini is None:\n",
    "            return Ct, c, data_used\n",
    "        data_tried += [i_mini, i_maxi]\n",
    "        data_tried = list(set(data_tried))\n",
    "        #if it >= 30:\n",
    "        #    print(X[i_mini], np.sign(pred_point_simplified_vec(i_mini, c)), y[i_mini])\n",
    "        #    print(X[i_maxi], np.sign(pred_point_simplified_vec(i_maxi, c)), y[i_maxi])\n",
    "            #print(X[i_minabs], np.sign(pred_point_simplified_vec(i_minabs, c)), y[i_minabs])\n",
    "        if did_cut: #len(data_used) < 4 * n_points // 5:\n",
    "            if np.sign(pred_point_simplified_vec(i_mini, c)) != y[i_mini]:\n",
    "                print(f'Cutting at iteration {it}')\n",
    "                cut(Ct, X[i_mini], y[i_mini], dmat[i_mini])\n",
    "                data_used.append(i_mini)\n",
    "                did_cut = True\n",
    "            if np.sign(pred_point_simplified_vec(i_maxi, c)) != y[i_maxi]:\n",
    "                print(f'Cutting at iteration {it}')\n",
    "                cut(Ct, X[i_maxi], y[i_maxi], dmat[i_maxi])\n",
    "                data_used.append(i_maxi)\n",
    "                did_cut = True\n",
    "        else:\n",
    "            if np.sign(pred_point_simplified_vec(i_minabs, c)) != y[i_minabs]:\n",
    "                print(f'Cutting at iteration {it}')\n",
    "                cut(Ct, X[i_minabs], y[i_minabs], dmat[i_minabs])\n",
    "                data_used.append(i_minabs)\n",
    "                did_cut = True\n",
    "        it += 1\n",
    "        \n",
    "        #data_used = list(set(data_used))\n",
    "        \n",
    "        #print(len(data_tried))\n",
    "    \n",
    "    return Ct, c, data_used"
   ]
  },
  {
   "cell_type": "code",
   "execution_count": 28,
   "id": "56d0692b-999e-4ddd-a4dd-c76a5aa6df2e",
   "metadata": {},
   "outputs": [
    {
     "name": "stdout",
     "output_type": "stream",
     "text": [
      "Cutting at iteration 0\n",
      "Cutting at iteration 0\n",
      "Cutting at iteration 1\n",
      "Cutting at iteration 8\n",
      "Cutting at iteration 16\n",
      "Cutting at iteration 16\n",
      "Cutting at iteration 17\n",
      "Cutting at iteration 21\n",
      "Cutting at iteration 24\n",
      "Cutting at iteration 25\n",
      "Cutting at iteration 25\n",
      "Cutting at iteration 27\n",
      "Cutting at iteration 29\n",
      "Cutting at iteration 35\n",
      "Cutting at iteration 35\n",
      "Cutting at iteration 40\n",
      "Cutting at iteration 40\n",
      "Cutting at iteration 43\n",
      "Cutting at iteration 48\n",
      "Cutting at iteration 63\n",
      "size of C: 24940\n",
      "used: [0, 0, 29, 55, 25, 27, 2, 65, 13, 18, 30, 5, 47, 14, 3, 52, 52, 62, 46, 28]\n"
     ]
    }
   ],
   "source": [
    "C, c, used = cutting_plane(20)\n",
    "print(f'size of C: {len(C)}')\n",
    "print(f'used: {used}')"
   ]
  },
  {
   "cell_type": "code",
   "execution_count": 35,
   "id": "69d4f9e8-22f9-48f5-b7da-9f560c6ce01b",
   "metadata": {},
   "outputs": [],
   "source": [
    "def visualize(Uopt1v_list, Uopt2v_list, title):\n",
    "\n",
    "    pos_cvx = []\n",
    "    neg_cvx = []\n",
    "    \n",
    "    for Uopt1v, Uopt2v in zip(Uopt1v_list, Uopt2v_list):\n",
    "    \n",
    "        yest_cvx=np.sum(drelu(Xtest@Uopt1v)*(Xtest@Uopt1v)-drelu(Xtest@Uopt2v)*(Xtest@Uopt2v),axis=1)\n",
    "        pos_cvx.append(np.where(np.sign(yest_cvx)==1))\n",
    "        neg_cvx.append(np.where(np.sign(yest_cvx)==-1))\n",
    "        \n",
    "        yacc_cvx = np.sign(np.sum(drelu(Xacc@Uopt1v)*(Xacc@Uopt1v)-drelu(Xacc@Uopt2v)*(Xacc@Uopt2v),axis=1))\n",
    "        print(f'# of correct classificationsn on the test set: {np.sum(yacc_cvx == yacc)}')\n",
    "        acc_cvx = np.sum(yacc_cvx == yacc) / len(yacc)\n",
    "        print(f'accuracy cvx on the test set: {acc_cvx}')\n",
    "\n",
    "        ytrain_cvx = np.sign(np.sum(drelu(X@Uopt1v)*(X@Uopt1v)-drelu(X@Uopt2v)*(X@Uopt2v),axis=1))\n",
    "        print(f'# of correct classificationsn on the train set: {np.sum(ytrain_cvx == y)}')\n",
    "        acc_train = np.sum(ytrain_cvx == y) / len(y)\n",
    "        print(f'accuracy cvx on the train set: {acc_train}')\n",
    "\n",
    "    plot_result(pos_cvx[0], neg_cvx[0], pos_cvx[1], neg_cvx[1], title)"
   ]
  },
  {
   "cell_type": "code",
   "execution_count": 36,
   "id": "53a54965-5bdf-4ee6-93a9-b78d899a3c3a",
   "metadata": {},
   "outputs": [],
   "source": [
    "def visualize_boundary(Uopt1v_list, Uopt2v_list, title):\n",
    "    \n",
    "    for Uopt1v, Uopt2v in zip(Uopt1v_list, Uopt2v_list):\n",
    "    \n",
    "        yest_cvx=np.sum(drelu(Xtest@Uopt1v)*(Xtest@Uopt1v)-drelu(Xtest@Uopt2v)*(Xtest@Uopt2v),axis=1)\n",
    "        \n",
    "        yacc_cvx = np.sign(np.sum(drelu(Xacc@Uopt1v)*(Xacc@Uopt1v)-drelu(Xacc@Uopt2v)*(Xacc@Uopt2v),axis=1))\n",
    "        print(f'# of correct classificationsn on the test set: {np.sum(yacc_cvx == yacc)}')\n",
    "        acc_cvx = np.sum(yacc_cvx == yacc) / len(yacc)\n",
    "        print(f'accuracy cvx on the test set: {acc_cvx}')\n",
    "\n",
    "        ytrain_cvx = np.sign(np.sum(drelu(X@Uopt1v)*(X@Uopt1v)-drelu(X@Uopt2v)*(X@Uopt2v),axis=1))\n",
    "        print(f'# of correct classificationsn on the train set: {np.sum(ytrain_cvx == y)}')\n",
    "        acc_train = np.sum(ytrain_cvx == y) / len(y)\n",
    "        print(f'accuracy cvx on the train set: {acc_train}')\n",
    "\n",
    "    plot_result(pos_cvx[0], neg_cvx[0], pos_cvx[1], neg_cvx[1], title)"
   ]
  },
  {
   "cell_type": "code",
   "execution_count": 37,
   "id": "75383687-a11f-4f58-8cbf-0e6fac3437e1",
   "metadata": {},
   "outputs": [
    {
     "name": "stdout",
     "output_type": "stream",
     "text": [
      "# of correct classificationsn on the test set: 12\n",
      "accuracy cvx on the test set: 0.6\n",
      "# of correct classificationsn on the train set: 67\n",
      "accuracy cvx on the train set: 0.8375\n",
      "# of correct classificationsn on the test set: 20\n",
      "accuracy cvx on the test set: 1.0\n",
      "# of correct classificationsn on the train set: 80\n",
      "accuracy cvx on the train set: 1.0\n"
     ]
    },
    {
     "data": {
      "image/png": "[encoded data removed]",
      "text/plain": [
       "<Figure size 700x300 with 2 Axes>"
      ]
     },
     "metadata": {},
     "output_type": "display_data"
    }
   ],
   "source": [
    "theta_matrix = np.reshape(c, (2*d, m), order='F')\n",
    "Uopt1_final_v, Uopt2_final_v, _ = convex_solve(used)\n",
    "visualize([theta_matrix[:d], Uopt1_final_v], [theta_matrix[d:], Uopt2_final_v], 'norefine')"
   ]
  },
  {
   "cell_type": "markdown",
   "id": "644fc1d4-fe18-453d-b72b-0f15ab931909",
   "metadata": {},
   "source": [
    "### 6. Linear cutting-plane AL method"
   ]
  },
  {
   "cell_type": "code",
   "execution_count": 48,
   "id": "10078760-513e-452f-b79b-53e91321efe2",
   "metadata": {},
   "outputs": [],
   "source": [
    "N = 80"
   ]
  },
  {
   "cell_type": "code",
   "execution_count": 49,
   "id": "57717ed6-0878-42ab-9dde-55303e1aa277",
   "metadata": {},
   "outputs": [],
   "source": [
    "d=3"
   ]
  },
  {
   "cell_type": "code",
   "execution_count": 50,
   "id": "57b0ed54-a2b5-4d0e-a2ff-4d755ada1a9c",
   "metadata": {},
   "outputs": [],
   "source": [
    "def linear_center(S, R=1):\n",
    "    \"\"\"S is a list of affine inequalities described as (LHS vector, RHS scalar) tuples.\"\"\"\n",
    "    w = cp.Variable(d)\n",
    "    obj = cp.log(R - cp.norm(w)) # Objective for finding the center (log-barrier)\n",
    "    constraints = []\n",
    "    \n",
    "    if len(S) > 0:\n",
    "        obj += cp.sum([cp.log(rhs - lhs @ w) for lhs, rhs in S])  # Add log-barrier constraints\n",
    "\n",
    "    prob = cp.Problem(cp.Maximize(obj), constraints)\n",
    "    prob.solve(solver=cp.MOSEK)\n",
    "    \n",
    "    return w.value  # Return the center of the current feasible region"
   ]
  },
  {
   "cell_type": "code",
   "execution_count": 51,
   "id": "f1194f19-453c-47f3-a589-6f344e1e9d45",
   "metadata": {},
   "outputs": [],
   "source": [
    "def linear_query(w, X, y, data_tried, data_used, M=100):\n",
    "\n",
    "    mini = np.inf\n",
    "    i_mini = -1\n",
    "\n",
    "    maxi = -np.inf\n",
    "    i_maxi = -1\n",
    "\n",
    "    minabs = np.inf\n",
    "    i_minabs = -1\n",
    "    \n",
    "    for i in range(N): # search in finite data (D implicit) set to re-use dmat then\n",
    "        if i not in data_tried and i not in data_used:\n",
    "            pred = y[i] * np.dot(w, X[i])\n",
    "            if pred < mini:\n",
    "                i_mini = 1*i\n",
    "                mini = pred\n",
    "            if pred > maxi:\n",
    "                i_maxi = 1*i\n",
    "                maxi = pred\n",
    "            if abs(pred) < minabs:\n",
    "                i_minabs = 1*i\n",
    "                minabs = abs(pred)\n",
    "\n",
    "    return i_mini, i_maxi, i_minabs"
   ]
  },
  {
   "cell_type": "code",
   "execution_count": 52,
   "id": "3295bd46-41e9-4283-8cf6-98cbfca0f37c",
   "metadata": {},
   "outputs": [],
   "source": [
    "def linear_cut(S, x, y):\n",
    "    \"\"\"\n",
    "    Add a new cutting-plane constraint for a linear classifier.\n",
    "    \n",
    "    Arguments:\n",
    "    - S: current list of constraints\n",
    "    - x: the feature vector of the queried point\n",
    "    - y: the label of the queried point\n",
    "    \"\"\"\n",
    "    # The constraint is simply: y * <w, x> >= 0, which means adding (y * x, 0) to the constraint set\n",
    "    S.append((y * x, 0))  # Add new constraint y * <w, x> >= 0"
   ]
  },
  {
   "cell_type": "code",
   "execution_count": 53,
   "id": "7b1c606a-9459-4fed-89c2-647ea61d8fca",
   "metadata": {},
   "outputs": [],
   "source": [
    "R = 1\n",
    "\n",
    "C0_lower_linear = -R*np.ones(d)\n",
    "C0_upper_linear = R*np.ones(d)"
   ]
  },
  {
   "cell_type": "code",
   "execution_count": 54,
   "id": "6b0f7441-ef83-44e1-a32b-a3d1f24e037c",
   "metadata": {},
   "outputs": [],
   "source": [
    "def linear_cutting_plane(n_points=100, maxit=10000, boxinit=False):\n",
    "\n",
    "    data_tried = []\n",
    "    data_used = []\n",
    "\n",
    "    Ct = []\n",
    "    if boxinit:\n",
    "        for i, (l, u) in enumerate(zip(C0_lower_linear, C0_upper_linear)):\n",
    "            one_vec = np.zeros(d)\n",
    "            one_vec[i] = 1\n",
    "            Ct.append((one_vec, u))\n",
    "            Ct.append((-one_vec, -l))\n",
    "\n",
    "    c = None\n",
    "    did_cut = True\n",
    "    it = 0\n",
    "    #print(it)\n",
    "    #print(len(data_used))\n",
    "    while len(data_used) < n_points and it < maxit: \n",
    "        if len(data_tried) == N:\n",
    "            data_tried = []\n",
    "        if did_cut:\n",
    "            c = linear_center(Ct, R=R) # cannot be 0\n",
    "            # Offset the center if it's too close to zero\n",
    "            if np.all(np.abs(c) < 1e-6):  # If all values of `c` are very close to zero\n",
    "                c += 1e-6 * np.random.randn(d)  # Apply small random offset\n",
    "            #print(c)\n",
    "            did_cut = False\n",
    "        i_mini, i_maxi, i_minabs = linear_query(c, X, y, data_tried, data_used)\n",
    "        if i_mini is None:\n",
    "            return Ct, c, data_used\n",
    "        data_tried += [i_mini, i_maxi]\n",
    "        data_tried = list(set(data_tried))\n",
    "        if True: \n",
    "            if y[i_mini]*np.dot(c,X[i_mini]) < 0:\n",
    "                #print(1,'y')\n",
    "                #print(f'Cutting at iteration {it}')\n",
    "                linear_cut(Ct, X[i_mini], y[i_mini])\n",
    "                data_used.append(i_mini)\n",
    "                did_cut = True\n",
    "            if y[i_maxi]*np.dot(c,X[i_maxi]) < 0:\n",
    "                #print(2,'y')\n",
    "                #print(f'Cutting at iteration {it}')\n",
    "                linear_cut(Ct, X[i_maxi], y[i_maxi])\n",
    "                data_used.append(i_maxi)\n",
    "                did_cut = True\n",
    "        else:\n",
    "            if y[i_minabs]*np.dot(c,X[i_minabs])<0:\n",
    "                #print(3,'y')\n",
    "                #print(f'Cutting at iteration {it}')\n",
    "                linear_cut(Ct, X[i_minabs], y[i_minabs])\n",
    "                data_used.append(i_minabs)\n",
    "                did_cut = True\n",
    "        it += 1\n",
    "\n",
    "        #data_used = list(set(data_used))\n",
    "\n",
    "        #print(len(data_tried))\n",
    "\n",
    "    return Ct, c, data_used"
   ]
  },
  {
   "cell_type": "code",
   "execution_count": 27,
   "id": "c8cae586-eef9-46cd-a71f-97370d2b0b60",
   "metadata": {},
   "outputs": [
    {
     "name": "stdout",
     "output_type": "stream",
     "text": [
      "Cutting at iteration 0\n",
      "Cutting at iteration 1\n",
      "Cutting at iteration 2\n",
      "Cutting at iteration 3\n",
      "Cutting at iteration 4\n",
      "Cutting at iteration 5\n",
      "Cutting at iteration 6\n",
      "Cutting at iteration 7\n",
      "Cutting at iteration 8\n",
      "Cutting at iteration 9\n",
      "Cutting at iteration 10\n",
      "Cutting at iteration 11\n",
      "Cutting at iteration 12\n",
      "Cutting at iteration 13\n",
      "Cutting at iteration 14\n",
      "Cutting at iteration 15\n",
      "Cutting at iteration 16\n",
      "Cutting at iteration 17\n",
      "Cutting at iteration 18\n",
      "Cutting at iteration 19\n",
      "size of C: 20\n",
      "used: [57, 53, 18, 66, 61, 15, 71, 54, 35, 0, 17, 58, 16, 76, 70, 36, 46, 6, 45, 68]\n"
     ]
    }
   ],
   "source": [
    "C, c, used = linear_cutting_plane(20)\n",
    "print(f'size of C: {len(C)}')\n",
    "print(f'used: {used}')"
   ]
  },
  {
   "cell_type": "code",
   "execution_count": 68,
   "id": "73b2139b-5986-4877-a989-2e722d41d526",
   "metadata": {},
   "outputs": [],
   "source": [
    "def cal_linear_acc(X, y, X_test, y_test, itr_ls):\n",
    "    acc_linear_train = []\n",
    "    acc_linear_test = []\n",
    "    for i in range(len(itr_ls)):\n",
    "        C, c, used = linear_cutting_plane(itr_ls[i])\n",
    "        y_pred_train = np.sign(np.dot(X, c))\n",
    "        y_pred_test = np.sign(np.dot(X_test, c))\n",
    "        accuracy_train = np.sum(y_pred_train == y) / len(y)\n",
    "        accuracy_test = np.sum(y_pred_test == y_test) / len(y_test)\n",
    "        acc_linear_train.append(accuracy_train)\n",
    "        acc_linear_test.append(accuracy_test)\n",
    "    return acc_linear_train, acc_linear_test"
   ]
  },
  {
   "cell_type": "code",
   "execution_count": 33,
   "id": "9101ad3b-c949-4768-a4ef-33d1c8df2889",
   "metadata": {},
   "outputs": [],
   "source": [
    "def plot_decision_boundary_linear(X, y, X_test, y_test, c, selected_indices, name):\n",
    "    # Define the grid range based on the data range\n",
    "    x_min, x_max = -1.5, 1.5 # 1.5\n",
    "    y_min, y_max = -1.5, 1.5\n",
    "\n",
    "    # Create a grid of points\n",
    "    x1 = np.linspace(x_min, x_max, 100)\n",
    "    x2 = np.linspace(y_min, y_max, 100)\n",
    "    x1, x2 = np.meshgrid(x1, x2)\n",
    "    Xtest = np.c_[x1.ravel(), x2.ravel()]\n",
    "    Xtest = np.append(Xtest, np.ones((Xtest.shape[0], 1)), axis=1)  # Add the bias term\n",
    "    \n",
    "    # Predict the labels for both training and test data\n",
    "    y_pred_train = np.sign(np.dot(X, c))  # Predictions for training data\n",
    "    y_pred_test = np.sign(np.dot(X_test, c))  # Predictions for test data\n",
    "    y_pred_all = np.sign(np.dot(X_all,c))\n",
    "    y_pred_1 = np.sign(np.dot(Xtest,c))\n",
    "    y_pred_1 = y_pred_1.reshape(x1.shape)\n",
    "    \n",
    "    # Map labels back to -1 and 1 for visualization\n",
    "    y_train_mapped = np.where(y == 1, 1, -1)\n",
    "    y_test_mapped = np.where(y_test == 1, 1, -1)\n",
    "\n",
    "    # Compute accuracy on training and test sets\n",
    "    accuracy_train = np.sum(y_pred_train == y) / len(y)\n",
    "    accuracy_test = np.sum(y_pred_test == y_test) / len(y_test)\n",
    "\n",
    "    print(f'Accuracy on training set: {accuracy_train * 100:.2f}%')\n",
    "    print(f'Accuracy on test set: {accuracy_test * 100:.2f}%')\n",
    "    \n",
    "    X_selected = X[selected_indices]\n",
    "    y_selected = y_train_mapped[selected_indices]\n",
    "\n",
    "    # Create subplots\n",
    "    fig, ax = plt.subplots(figsize=(7, 7))\n",
    "\n",
    "    # Define the custom colors\n",
    "    colors = ['#920783', '#00b7c7']  # Switched the colors to match the image\n",
    "    cmap = mcolors.ListedColormap(colors)\n",
    "\n",
    "    # Plot the decision boundary with custom colors\n",
    "    ax.contourf(x1, x2, y_pred_1, alpha=0.3, cmap=cmap)\n",
    "    scatter_train = ax.scatter(X[:, 0], X[:, 1], c=y_train_mapped, edgecolor='k', s=20, cmap=cmap,\n",
    "                               label='Train Data')\n",
    "    scatter_test = ax.scatter(X_test[:, 0], X_test[:, 1], c=y_test_mapped, edgecolor='k', s=20, cmap=cmap,\n",
    "                              marker='^', label = 'Test Data')\n",
    "    scatter_select = ax.scatter(X_selected[:,0], X_selected[:,1], c=y_selected, s=80, cmap=cmap, marker='x',\n",
    "                               label='Queried Data')\n",
    "    \n",
    "    ax.set_xlabel('x1')\n",
    "    ax.set_ylabel('x2')\n",
    "    ax.set_xlim(x_min, x_max)\n",
    "    ax.set_ylim(y_min, y_max)\n",
    "    ax.set_title(f'{name}')\n",
    "    plt.legend()\n",
    "    plt.savefig(f'{name}.pdf', bbox_inches='tight')\n",
    "    plt.show()"
   ]
  },
  {
   "cell_type": "code",
   "execution_count": 34,
   "id": "9bea8ee7-5551-4960-b689-e989a16323cd",
   "metadata": {},
   "outputs": [
    {
     "name": "stdout",
     "output_type": "stream",
     "text": [
      "Accuracy on training set: 50.00%\n",
      "Accuracy on test set: 50.00%\n"
     ]
    },
    {
     "data": {
      "image/png": "[encoded data removed]",
      "text/plain": [
       "<Figure size 700x700 with 1 Axes>"
      ]
     },
     "metadata": {},
     "output_type": "display_data"
    }
   ],
   "source": [
    "plot_decision_boundary_linear(X, y, Xacc, yacc, c, used, 'Linear')"
   ]
  }
 ],
 "metadata": {
  "kernelspec": {
   "display_name": "base",
   "language": "python",
   "name": "python3"
  },
  "language_info": {
   "codemirror_mode": {
    "name": "ipython",
    "version": 3
   },
   "file_extension": ".py",
   "mimetype": "text/x-python",
   "name": "python",
   "nbconvert_exporter": "python",
   "pygments_lexer": "ipython3",
   "version": "3.9.7"
  }
 },
 "nbformat": 4,
 "nbformat_minor": 5
}
