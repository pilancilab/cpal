{
 "cells": [
  {
   "cell_type": "markdown",
   "id": "bc6e9524",
   "metadata": {},
   "source": [
    "## Compare Convex Solver vs. the GD Solver for the Two-layer ReLU Network"
   ]
  },
  {
   "cell_type": "markdown",
   "id": "7057b10f",
   "metadata": {},
   "source": [
    "The goal of this notebook is to compare two training approaches for two-layer ReLU neural networks using the entire training dataset:\n",
    "\n",
    "1. Its exact convex formulation, solved using CVXPY.\n",
    "2. Traditional backpropagation (BP), using full-batch gradient descent (GD).\n",
    "\n",
    "We evaluate both methods on two types of synthetic tasks:\n",
    "\n",
    "- A classification task using the spiral dataset.\n",
    "- A regression task based on learning the quadratic function $y = x^2$."
   ]
  },
  {
   "cell_type": "code",
   "execution_count": null,
   "id": "410d4012",
   "metadata": {},
   "outputs": [],
   "source": [
    "import sys\n",
    "sys.path.append('..')\n",
    "from src.baselines.skactive_baseline import *\n",
    "from src.cpal.cpal import *\n",
    "from src.cpal.synthetic_data import *\n",
    "from src.cpal.solve_cvxnn import *"
   ]
  },
  {
   "cell_type": "markdown",
   "id": "7bb6baca",
   "metadata": {},
   "source": [
    "### 1. Classification on Synthetic Spiral"
   ]
  },
  {
   "cell_type": "code",
   "execution_count": null,
   "id": "4f59a438",
   "metadata": {},
   "outputs": [],
   "source": [
    "# 1. Generate synthetic spiral data\n",
    "X_all, y_all, X, y, Xacc, yacc = generate_spiral_data()"
   ]
  },
  {
   "cell_type": "code",
   "execution_count": null,
   "id": "415d0493",
   "metadata": {},
   "outputs": [],
   "source": [
    "# 2. Generate hyperplane arrangement\n",
    "dmat= generate_hyperplane_arrangement(X,P=1000)\n",
    "_, num_neurons = dmat.shape"
   ]
  },
  {
   "cell_type": "code",
   "execution_count": null,
   "id": "161d4f09",
   "metadata": {},
   "outputs": [],
   "source": [
    "# 3. Convex solve exact 2-layer neural network\n",
    "Uopt1, Uopt2, obj_val, status = solve_two_layer_cvx(X, y, dmat, beta=1e-5, task_type='c')"
   ]
  },
  {
   "cell_type": "code",
   "execution_count": null,
   "id": "8a20671f",
   "metadata": {},
   "outputs": [],
   "source": [
    "# Plot the corresponding CVX decision boundary\n",
    "plot_decision_boundary(\n",
    "    X=X,\n",
    "    y=y,\n",
    "    X_test=Xacc,\n",
    "    y_test=yacc,\n",
    "    selected_indices=None,\n",
    "    name='Decision Boundary (Convex)',\n",
    "    Uopt1v=Uopt1,\n",
    "    Uopt2v=Uopt2,\n",
    "    plot_type='cvx'\n",
    ")"
   ]
  },
  {
   "cell_type": "code",
   "execution_count": null,
   "id": "35fb8bb6",
   "metadata": {},
   "outputs": [],
   "source": [
    "# 4. Compare with GD solver via BP\n",
    "m = num_neurons\n",
    "U, w, obj_bp = train_bp_two_layer_relu(X, y, m, cvx_opt=obj_val)"
   ]
  },
  {
   "cell_type": "code",
   "execution_count": null,
   "id": "3ee24529",
   "metadata": {},
   "outputs": [],
   "source": [
    "# Plot the corresponding BP decision boundary\n",
    "plot_decision_boundary(\n",
    "    X=X,\n",
    "    y=y,\n",
    "    X_test=Xacc,\n",
    "    y_test=yacc,\n",
    "    name='Decision Boundary (BP)',\n",
    "    U = U,\n",
    "    w = w,\n",
    "    plot_type='bp'\n",
    ")\n"
   ]
  },
  {
   "cell_type": "code",
   "execution_count": null,
   "id": "e524896e",
   "metadata": {},
   "outputs": [],
   "source": [
    "evaluate_model_performance(task = 'c', X_test = Xacc, y_test = yacc, Uopt1 = Uopt1, Uopt2 = Uopt2, U = U, w = w)"
   ]
  },
  {
   "cell_type": "markdown",
   "id": "2baa61d8",
   "metadata": {},
   "source": [
    "### 2. Regression"
   ]
  },
  {
   "cell_type": "code",
   "execution_count": null,
   "id": "94a59dc8",
   "metadata": {},
   "outputs": [],
   "source": [
    "# 1. Generate synthetic quadratic regression data\n",
    "X_all, y_all, X, y, Xacc, yacc = generate_quadratic_regression()"
   ]
  },
  {
   "cell_type": "code",
   "execution_count": null,
   "id": "d3d75dcc",
   "metadata": {},
   "outputs": [],
   "source": [
    "# 2. Generate hyperplane arrangement\n",
    "dmat= generate_hyperplane_arrangement(X,P=2000)\n",
    "_, num_neurons = dmat.shape"
   ]
  },
  {
   "cell_type": "code",
   "execution_count": null,
   "id": "75c31f69",
   "metadata": {},
   "outputs": [],
   "source": [
    "# 3. convex solve exact 2-layer neural network\n",
    "Uopt1, Uopt2, obj_val, status = solve_two_layer_cvx(X, y, dmat)"
   ]
  },
  {
   "cell_type": "code",
   "execution_count": null,
   "id": "18cd8ea6",
   "metadata": {},
   "outputs": [],
   "source": [
    "# 4. bp comparison\n",
    "m = num_neurons\n",
    "U_bp, w_bp, obj_bp = train_bp_two_layer_relu(X, y, m, cvx_opt=obj_val)"
   ]
  },
  {
   "cell_type": "code",
   "execution_count": null,
   "id": "1d6a4e70",
   "metadata": {},
   "outputs": [],
   "source": [
    "# 5. Compare performance\n",
    "y_true = X_all[:,:-1] ** 2 # for quadratic regression\n",
    "evaluate_model_performance(task = 'r', X_all = X_all, y_true = y_true, X = X, y = y, X_test = Xacc, y_test = yacc, Uopt1 = Uopt1, Uopt2 = Uopt2, U = U_bp, w = w_bp)"
   ]
  }
 ],
 "metadata": {
  "kernelspec": {
   "display_name": "base",
   "language": "python",
   "name": "python3"
  },
  "language_info": {
   "codemirror_mode": {
    "name": "ipython",
    "version": 3
   },
   "file_extension": ".py",
   "mimetype": "text/x-python",
   "name": "python",
   "nbconvert_exporter": "python",
   "pygments_lexer": "ipython3",
   "version": "3.9.7"
  }
 },
 "nbformat": 4,
 "nbformat_minor": 5
}
